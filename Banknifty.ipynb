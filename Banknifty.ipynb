{
  "nbformat": 4,
  "nbformat_minor": 0,
  "metadata": {
    "colab": {
      "provenance": [],
      "authorship_tag": "ABX9TyNMqQHT4zj0rRkCsI6zKwWa",
      "include_colab_link": true
    },
    "kernelspec": {
      "name": "python3",
      "display_name": "Python 3"
    },
    "language_info": {
      "name": "python"
    }
  },
  "cells": [
    {
      "cell_type": "markdown",
      "metadata": {
        "id": "view-in-github",
        "colab_type": "text"
      },
      "source": [
        "<a href=\"https://colab.research.google.com/github/anuzz01/Stock-Market-Visualization/blob/main/Banknifty.ipynb\" target=\"_parent\"><img src=\"https://colab.research.google.com/assets/colab-badge.svg\" alt=\"Open In Colab\"/></a>"
      ]
    },
    {
      "cell_type": "code",
      "execution_count": 1,
      "metadata": {
        "id": "bwrO7-PdEmJE",
        "colab": {
          "base_uri": "https://localhost:8080/",
          "height": 345
        },
        "outputId": "9a2292b3-f8c2-4dbc-9201-05eb70b1ae3c"
      },
      "outputs": [
        {
          "output_type": "error",
          "ename": "FileNotFoundError",
          "evalue": "ignored",
          "traceback": [
            "\u001b[0;31m---------------------------------------------------------------------------\u001b[0m",
            "\u001b[0;31mFileNotFoundError\u001b[0m                         Traceback (most recent call last)",
            "\u001b[0;32m<ipython-input-1-9efcdf5794be>\u001b[0m in \u001b[0;36m<cell line: 4>\u001b[0;34m()\u001b[0m\n\u001b[1;32m      2\u001b[0m \u001b[0;34m\u001b[0m\u001b[0m\n\u001b[1;32m      3\u001b[0m \u001b[0;31m# Read the CSV file\u001b[0m\u001b[0;34m\u001b[0m\u001b[0;34m\u001b[0m\u001b[0m\n\u001b[0;32m----> 4\u001b[0;31m \u001b[0mdf\u001b[0m \u001b[0;34m=\u001b[0m \u001b[0mpd\u001b[0m\u001b[0;34m.\u001b[0m\u001b[0mread_csv\u001b[0m\u001b[0;34m(\u001b[0m\u001b[0;34m'your_file_name.csv'\u001b[0m\u001b[0;34m)\u001b[0m\u001b[0;34m\u001b[0m\u001b[0;34m\u001b[0m\u001b[0m\n\u001b[0m",
            "\u001b[0;32m/usr/local/lib/python3.10/dist-packages/pandas/util/_decorators.py\u001b[0m in \u001b[0;36mwrapper\u001b[0;34m(*args, **kwargs)\u001b[0m\n\u001b[1;32m    209\u001b[0m                 \u001b[0;32melse\u001b[0m\u001b[0;34m:\u001b[0m\u001b[0;34m\u001b[0m\u001b[0;34m\u001b[0m\u001b[0m\n\u001b[1;32m    210\u001b[0m                     \u001b[0mkwargs\u001b[0m\u001b[0;34m[\u001b[0m\u001b[0mnew_arg_name\u001b[0m\u001b[0;34m]\u001b[0m \u001b[0;34m=\u001b[0m \u001b[0mnew_arg_value\u001b[0m\u001b[0;34m\u001b[0m\u001b[0;34m\u001b[0m\u001b[0m\n\u001b[0;32m--> 211\u001b[0;31m             \u001b[0;32mreturn\u001b[0m \u001b[0mfunc\u001b[0m\u001b[0;34m(\u001b[0m\u001b[0;34m*\u001b[0m\u001b[0margs\u001b[0m\u001b[0;34m,\u001b[0m \u001b[0;34m**\u001b[0m\u001b[0mkwargs\u001b[0m\u001b[0;34m)\u001b[0m\u001b[0;34m\u001b[0m\u001b[0;34m\u001b[0m\u001b[0m\n\u001b[0m\u001b[1;32m    212\u001b[0m \u001b[0;34m\u001b[0m\u001b[0m\n\u001b[1;32m    213\u001b[0m         \u001b[0;32mreturn\u001b[0m \u001b[0mcast\u001b[0m\u001b[0;34m(\u001b[0m\u001b[0mF\u001b[0m\u001b[0;34m,\u001b[0m \u001b[0mwrapper\u001b[0m\u001b[0;34m)\u001b[0m\u001b[0;34m\u001b[0m\u001b[0;34m\u001b[0m\u001b[0m\n",
            "\u001b[0;32m/usr/local/lib/python3.10/dist-packages/pandas/util/_decorators.py\u001b[0m in \u001b[0;36mwrapper\u001b[0;34m(*args, **kwargs)\u001b[0m\n\u001b[1;32m    329\u001b[0m                     \u001b[0mstacklevel\u001b[0m\u001b[0;34m=\u001b[0m\u001b[0mfind_stack_level\u001b[0m\u001b[0;34m(\u001b[0m\u001b[0;34m)\u001b[0m\u001b[0;34m,\u001b[0m\u001b[0;34m\u001b[0m\u001b[0;34m\u001b[0m\u001b[0m\n\u001b[1;32m    330\u001b[0m                 )\n\u001b[0;32m--> 331\u001b[0;31m             \u001b[0;32mreturn\u001b[0m \u001b[0mfunc\u001b[0m\u001b[0;34m(\u001b[0m\u001b[0;34m*\u001b[0m\u001b[0margs\u001b[0m\u001b[0;34m,\u001b[0m \u001b[0;34m**\u001b[0m\u001b[0mkwargs\u001b[0m\u001b[0;34m)\u001b[0m\u001b[0;34m\u001b[0m\u001b[0;34m\u001b[0m\u001b[0m\n\u001b[0m\u001b[1;32m    332\u001b[0m \u001b[0;34m\u001b[0m\u001b[0m\n\u001b[1;32m    333\u001b[0m         \u001b[0;31m# error: \"Callable[[VarArg(Any), KwArg(Any)], Any]\" has no\u001b[0m\u001b[0;34m\u001b[0m\u001b[0;34m\u001b[0m\u001b[0m\n",
            "\u001b[0;32m/usr/local/lib/python3.10/dist-packages/pandas/io/parsers/readers.py\u001b[0m in \u001b[0;36mread_csv\u001b[0;34m(filepath_or_buffer, sep, delimiter, header, names, index_col, usecols, squeeze, prefix, mangle_dupe_cols, dtype, engine, converters, true_values, false_values, skipinitialspace, skiprows, skipfooter, nrows, na_values, keep_default_na, na_filter, verbose, skip_blank_lines, parse_dates, infer_datetime_format, keep_date_col, date_parser, dayfirst, cache_dates, iterator, chunksize, compression, thousands, decimal, lineterminator, quotechar, quoting, doublequote, escapechar, comment, encoding, encoding_errors, dialect, error_bad_lines, warn_bad_lines, on_bad_lines, delim_whitespace, low_memory, memory_map, float_precision, storage_options)\u001b[0m\n\u001b[1;32m    948\u001b[0m     \u001b[0mkwds\u001b[0m\u001b[0;34m.\u001b[0m\u001b[0mupdate\u001b[0m\u001b[0;34m(\u001b[0m\u001b[0mkwds_defaults\u001b[0m\u001b[0;34m)\u001b[0m\u001b[0;34m\u001b[0m\u001b[0;34m\u001b[0m\u001b[0m\n\u001b[1;32m    949\u001b[0m \u001b[0;34m\u001b[0m\u001b[0m\n\u001b[0;32m--> 950\u001b[0;31m     \u001b[0;32mreturn\u001b[0m \u001b[0m_read\u001b[0m\u001b[0;34m(\u001b[0m\u001b[0mfilepath_or_buffer\u001b[0m\u001b[0;34m,\u001b[0m \u001b[0mkwds\u001b[0m\u001b[0;34m)\u001b[0m\u001b[0;34m\u001b[0m\u001b[0;34m\u001b[0m\u001b[0m\n\u001b[0m\u001b[1;32m    951\u001b[0m \u001b[0;34m\u001b[0m\u001b[0m\n\u001b[1;32m    952\u001b[0m \u001b[0;34m\u001b[0m\u001b[0m\n",
            "\u001b[0;32m/usr/local/lib/python3.10/dist-packages/pandas/io/parsers/readers.py\u001b[0m in \u001b[0;36m_read\u001b[0;34m(filepath_or_buffer, kwds)\u001b[0m\n\u001b[1;32m    603\u001b[0m \u001b[0;34m\u001b[0m\u001b[0m\n\u001b[1;32m    604\u001b[0m     \u001b[0;31m# Create the parser.\u001b[0m\u001b[0;34m\u001b[0m\u001b[0;34m\u001b[0m\u001b[0m\n\u001b[0;32m--> 605\u001b[0;31m     \u001b[0mparser\u001b[0m \u001b[0;34m=\u001b[0m \u001b[0mTextFileReader\u001b[0m\u001b[0;34m(\u001b[0m\u001b[0mfilepath_or_buffer\u001b[0m\u001b[0;34m,\u001b[0m \u001b[0;34m**\u001b[0m\u001b[0mkwds\u001b[0m\u001b[0;34m)\u001b[0m\u001b[0;34m\u001b[0m\u001b[0;34m\u001b[0m\u001b[0m\n\u001b[0m\u001b[1;32m    606\u001b[0m \u001b[0;34m\u001b[0m\u001b[0m\n\u001b[1;32m    607\u001b[0m     \u001b[0;32mif\u001b[0m \u001b[0mchunksize\u001b[0m \u001b[0;32mor\u001b[0m \u001b[0miterator\u001b[0m\u001b[0;34m:\u001b[0m\u001b[0;34m\u001b[0m\u001b[0;34m\u001b[0m\u001b[0m\n",
            "\u001b[0;32m/usr/local/lib/python3.10/dist-packages/pandas/io/parsers/readers.py\u001b[0m in \u001b[0;36m__init__\u001b[0;34m(self, f, engine, **kwds)\u001b[0m\n\u001b[1;32m   1440\u001b[0m \u001b[0;34m\u001b[0m\u001b[0m\n\u001b[1;32m   1441\u001b[0m         \u001b[0mself\u001b[0m\u001b[0;34m.\u001b[0m\u001b[0mhandles\u001b[0m\u001b[0;34m:\u001b[0m \u001b[0mIOHandles\u001b[0m \u001b[0;34m|\u001b[0m \u001b[0;32mNone\u001b[0m \u001b[0;34m=\u001b[0m \u001b[0;32mNone\u001b[0m\u001b[0;34m\u001b[0m\u001b[0;34m\u001b[0m\u001b[0m\n\u001b[0;32m-> 1442\u001b[0;31m         \u001b[0mself\u001b[0m\u001b[0;34m.\u001b[0m\u001b[0m_engine\u001b[0m \u001b[0;34m=\u001b[0m \u001b[0mself\u001b[0m\u001b[0;34m.\u001b[0m\u001b[0m_make_engine\u001b[0m\u001b[0;34m(\u001b[0m\u001b[0mf\u001b[0m\u001b[0;34m,\u001b[0m \u001b[0mself\u001b[0m\u001b[0;34m.\u001b[0m\u001b[0mengine\u001b[0m\u001b[0;34m)\u001b[0m\u001b[0;34m\u001b[0m\u001b[0;34m\u001b[0m\u001b[0m\n\u001b[0m\u001b[1;32m   1443\u001b[0m \u001b[0;34m\u001b[0m\u001b[0m\n\u001b[1;32m   1444\u001b[0m     \u001b[0;32mdef\u001b[0m \u001b[0mclose\u001b[0m\u001b[0;34m(\u001b[0m\u001b[0mself\u001b[0m\u001b[0;34m)\u001b[0m \u001b[0;34m->\u001b[0m \u001b[0;32mNone\u001b[0m\u001b[0;34m:\u001b[0m\u001b[0;34m\u001b[0m\u001b[0;34m\u001b[0m\u001b[0m\n",
            "\u001b[0;32m/usr/local/lib/python3.10/dist-packages/pandas/io/parsers/readers.py\u001b[0m in \u001b[0;36m_make_engine\u001b[0;34m(self, f, engine)\u001b[0m\n\u001b[1;32m   1733\u001b[0m                 \u001b[0;32mif\u001b[0m \u001b[0;34m\"b\"\u001b[0m \u001b[0;32mnot\u001b[0m \u001b[0;32min\u001b[0m \u001b[0mmode\u001b[0m\u001b[0;34m:\u001b[0m\u001b[0;34m\u001b[0m\u001b[0;34m\u001b[0m\u001b[0m\n\u001b[1;32m   1734\u001b[0m                     \u001b[0mmode\u001b[0m \u001b[0;34m+=\u001b[0m \u001b[0;34m\"b\"\u001b[0m\u001b[0;34m\u001b[0m\u001b[0;34m\u001b[0m\u001b[0m\n\u001b[0;32m-> 1735\u001b[0;31m             self.handles = get_handle(\n\u001b[0m\u001b[1;32m   1736\u001b[0m                 \u001b[0mf\u001b[0m\u001b[0;34m,\u001b[0m\u001b[0;34m\u001b[0m\u001b[0;34m\u001b[0m\u001b[0m\n\u001b[1;32m   1737\u001b[0m                 \u001b[0mmode\u001b[0m\u001b[0;34m,\u001b[0m\u001b[0;34m\u001b[0m\u001b[0;34m\u001b[0m\u001b[0m\n",
            "\u001b[0;32m/usr/local/lib/python3.10/dist-packages/pandas/io/common.py\u001b[0m in \u001b[0;36mget_handle\u001b[0;34m(path_or_buf, mode, encoding, compression, memory_map, is_text, errors, storage_options)\u001b[0m\n\u001b[1;32m    854\u001b[0m         \u001b[0;32mif\u001b[0m \u001b[0mioargs\u001b[0m\u001b[0;34m.\u001b[0m\u001b[0mencoding\u001b[0m \u001b[0;32mand\u001b[0m \u001b[0;34m\"b\"\u001b[0m \u001b[0;32mnot\u001b[0m \u001b[0;32min\u001b[0m \u001b[0mioargs\u001b[0m\u001b[0;34m.\u001b[0m\u001b[0mmode\u001b[0m\u001b[0;34m:\u001b[0m\u001b[0;34m\u001b[0m\u001b[0;34m\u001b[0m\u001b[0m\n\u001b[1;32m    855\u001b[0m             \u001b[0;31m# Encoding\u001b[0m\u001b[0;34m\u001b[0m\u001b[0;34m\u001b[0m\u001b[0m\n\u001b[0;32m--> 856\u001b[0;31m             handle = open(\n\u001b[0m\u001b[1;32m    857\u001b[0m                 \u001b[0mhandle\u001b[0m\u001b[0;34m,\u001b[0m\u001b[0;34m\u001b[0m\u001b[0;34m\u001b[0m\u001b[0m\n\u001b[1;32m    858\u001b[0m                 \u001b[0mioargs\u001b[0m\u001b[0;34m.\u001b[0m\u001b[0mmode\u001b[0m\u001b[0;34m,\u001b[0m\u001b[0;34m\u001b[0m\u001b[0;34m\u001b[0m\u001b[0m\n",
            "\u001b[0;31mFileNotFoundError\u001b[0m: [Errno 2] No such file or directory: 'your_file_name.csv'"
          ]
        }
      ],
      "source": [
        "import pandas as pd\n",
        "\n",
        "# Read the CSV file\n",
        "df = pd.read_csv('your_file_name.csv')\n"
      ]
    },
    {
      "cell_type": "code",
      "source": [
        "from google.colab import files\n",
        "\n",
        "# Upload a file\n",
        "uploaded = files.upload()\n",
        "\n"
      ],
      "metadata": {
        "colab": {
          "base_uri": "https://localhost:8080/",
          "height": 73
        },
        "id": "Mjv0X7c-JRYL",
        "outputId": "ab094ce2-3aab-48c5-c0e5-6f379e719e43"
      },
      "execution_count": 2,
      "outputs": [
        {
          "output_type": "display_data",
          "data": {
            "text/plain": [
              "<IPython.core.display.HTML object>"
            ],
            "text/html": [
              "\n",
              "     <input type=\"file\" id=\"files-582f51ed-f76b-4970-86b5-d3c5dbe49621\" name=\"files[]\" multiple disabled\n",
              "        style=\"border:none\" />\n",
              "     <output id=\"result-582f51ed-f76b-4970-86b5-d3c5dbe49621\">\n",
              "      Upload widget is only available when the cell has been executed in the\n",
              "      current browser session. Please rerun this cell to enable.\n",
              "      </output>\n",
              "      <script>// Copyright 2017 Google LLC\n",
              "//\n",
              "// Licensed under the Apache License, Version 2.0 (the \"License\");\n",
              "// you may not use this file except in compliance with the License.\n",
              "// You may obtain a copy of the License at\n",
              "//\n",
              "//      http://www.apache.org/licenses/LICENSE-2.0\n",
              "//\n",
              "// Unless required by applicable law or agreed to in writing, software\n",
              "// distributed under the License is distributed on an \"AS IS\" BASIS,\n",
              "// WITHOUT WARRANTIES OR CONDITIONS OF ANY KIND, either express or implied.\n",
              "// See the License for the specific language governing permissions and\n",
              "// limitations under the License.\n",
              "\n",
              "/**\n",
              " * @fileoverview Helpers for google.colab Python module.\n",
              " */\n",
              "(function(scope) {\n",
              "function span(text, styleAttributes = {}) {\n",
              "  const element = document.createElement('span');\n",
              "  element.textContent = text;\n",
              "  for (const key of Object.keys(styleAttributes)) {\n",
              "    element.style[key] = styleAttributes[key];\n",
              "  }\n",
              "  return element;\n",
              "}\n",
              "\n",
              "// Max number of bytes which will be uploaded at a time.\n",
              "const MAX_PAYLOAD_SIZE = 100 * 1024;\n",
              "\n",
              "function _uploadFiles(inputId, outputId) {\n",
              "  const steps = uploadFilesStep(inputId, outputId);\n",
              "  const outputElement = document.getElementById(outputId);\n",
              "  // Cache steps on the outputElement to make it available for the next call\n",
              "  // to uploadFilesContinue from Python.\n",
              "  outputElement.steps = steps;\n",
              "\n",
              "  return _uploadFilesContinue(outputId);\n",
              "}\n",
              "\n",
              "// This is roughly an async generator (not supported in the browser yet),\n",
              "// where there are multiple asynchronous steps and the Python side is going\n",
              "// to poll for completion of each step.\n",
              "// This uses a Promise to block the python side on completion of each step,\n",
              "// then passes the result of the previous step as the input to the next step.\n",
              "function _uploadFilesContinue(outputId) {\n",
              "  const outputElement = document.getElementById(outputId);\n",
              "  const steps = outputElement.steps;\n",
              "\n",
              "  const next = steps.next(outputElement.lastPromiseValue);\n",
              "  return Promise.resolve(next.value.promise).then((value) => {\n",
              "    // Cache the last promise value to make it available to the next\n",
              "    // step of the generator.\n",
              "    outputElement.lastPromiseValue = value;\n",
              "    return next.value.response;\n",
              "  });\n",
              "}\n",
              "\n",
              "/**\n",
              " * Generator function which is called between each async step of the upload\n",
              " * process.\n",
              " * @param {string} inputId Element ID of the input file picker element.\n",
              " * @param {string} outputId Element ID of the output display.\n",
              " * @return {!Iterable<!Object>} Iterable of next steps.\n",
              " */\n",
              "function* uploadFilesStep(inputId, outputId) {\n",
              "  const inputElement = document.getElementById(inputId);\n",
              "  inputElement.disabled = false;\n",
              "\n",
              "  const outputElement = document.getElementById(outputId);\n",
              "  outputElement.innerHTML = '';\n",
              "\n",
              "  const pickedPromise = new Promise((resolve) => {\n",
              "    inputElement.addEventListener('change', (e) => {\n",
              "      resolve(e.target.files);\n",
              "    });\n",
              "  });\n",
              "\n",
              "  const cancel = document.createElement('button');\n",
              "  inputElement.parentElement.appendChild(cancel);\n",
              "  cancel.textContent = 'Cancel upload';\n",
              "  const cancelPromise = new Promise((resolve) => {\n",
              "    cancel.onclick = () => {\n",
              "      resolve(null);\n",
              "    };\n",
              "  });\n",
              "\n",
              "  // Wait for the user to pick the files.\n",
              "  const files = yield {\n",
              "    promise: Promise.race([pickedPromise, cancelPromise]),\n",
              "    response: {\n",
              "      action: 'starting',\n",
              "    }\n",
              "  };\n",
              "\n",
              "  cancel.remove();\n",
              "\n",
              "  // Disable the input element since further picks are not allowed.\n",
              "  inputElement.disabled = true;\n",
              "\n",
              "  if (!files) {\n",
              "    return {\n",
              "      response: {\n",
              "        action: 'complete',\n",
              "      }\n",
              "    };\n",
              "  }\n",
              "\n",
              "  for (const file of files) {\n",
              "    const li = document.createElement('li');\n",
              "    li.append(span(file.name, {fontWeight: 'bold'}));\n",
              "    li.append(span(\n",
              "        `(${file.type || 'n/a'}) - ${file.size} bytes, ` +\n",
              "        `last modified: ${\n",
              "            file.lastModifiedDate ? file.lastModifiedDate.toLocaleDateString() :\n",
              "                                    'n/a'} - `));\n",
              "    const percent = span('0% done');\n",
              "    li.appendChild(percent);\n",
              "\n",
              "    outputElement.appendChild(li);\n",
              "\n",
              "    const fileDataPromise = new Promise((resolve) => {\n",
              "      const reader = new FileReader();\n",
              "      reader.onload = (e) => {\n",
              "        resolve(e.target.result);\n",
              "      };\n",
              "      reader.readAsArrayBuffer(file);\n",
              "    });\n",
              "    // Wait for the data to be ready.\n",
              "    let fileData = yield {\n",
              "      promise: fileDataPromise,\n",
              "      response: {\n",
              "        action: 'continue',\n",
              "      }\n",
              "    };\n",
              "\n",
              "    // Use a chunked sending to avoid message size limits. See b/62115660.\n",
              "    let position = 0;\n",
              "    do {\n",
              "      const length = Math.min(fileData.byteLength - position, MAX_PAYLOAD_SIZE);\n",
              "      const chunk = new Uint8Array(fileData, position, length);\n",
              "      position += length;\n",
              "\n",
              "      const base64 = btoa(String.fromCharCode.apply(null, chunk));\n",
              "      yield {\n",
              "        response: {\n",
              "          action: 'append',\n",
              "          file: file.name,\n",
              "          data: base64,\n",
              "        },\n",
              "      };\n",
              "\n",
              "      let percentDone = fileData.byteLength === 0 ?\n",
              "          100 :\n",
              "          Math.round((position / fileData.byteLength) * 100);\n",
              "      percent.textContent = `${percentDone}% done`;\n",
              "\n",
              "    } while (position < fileData.byteLength);\n",
              "  }\n",
              "\n",
              "  // All done.\n",
              "  yield {\n",
              "    response: {\n",
              "      action: 'complete',\n",
              "    }\n",
              "  };\n",
              "}\n",
              "\n",
              "scope.google = scope.google || {};\n",
              "scope.google.colab = scope.google.colab || {};\n",
              "scope.google.colab._files = {\n",
              "  _uploadFiles,\n",
              "  _uploadFilesContinue,\n",
              "};\n",
              "})(self);\n",
              "</script> "
            ]
          },
          "metadata": {}
        },
        {
          "output_type": "stream",
          "name": "stdout",
          "text": [
            "Saving BN.csv to BN.csv\n"
          ]
        }
      ]
    },
    {
      "cell_type": "code",
      "source": [
        "import pandas as pd\n",
        "\n",
        "# Read the uploaded CSV file\n",
        "df = pd.read_csv('BN.csv')\n",
        "\n",
        "# Check the rows and their data types\n",
        "print(df.head())\n",
        "print(df.dtypes)\n"
      ],
      "metadata": {
        "colab": {
          "base_uri": "https://localhost:8080/"
        },
        "id": "twaZeeHzJcKC",
        "outputId": "1c292a9c-f2a1-41fd-b540-fb1ae64997a8"
      },
      "execution_count": 3,
      "outputs": [
        {
          "output_type": "stream",
          "name": "stdout",
          "text": [
            "         Date      Price       Open       High        Low     Vol. Change %\n",
            "0  05/23/2023  44,054.75  43,926.35  44,081.05  43,873.85   54.47K    0.39%\n",
            "1  05/22/2023  43,885.10  43,935.30  44,026.75  43,684.90  183.78M   -0.19%\n",
            "2  05/19/2023  43,969.40  43,930.00  44,020.90  43,531.90  192.04M    0.50%\n",
            "3  05/18/2023  43,752.30  44,006.90  44,079.20  43,673.70  226.49M    0.12%\n",
            "4  05/17/2023  43,698.70  43,948.50  43,992.75  43,446.40  203.60M   -0.47%\n",
            "Date        object\n",
            "Price       object\n",
            "Open        object\n",
            "High        object\n",
            "Low         object\n",
            "Vol.        object\n",
            "Change %    object\n",
            "dtype: object\n"
          ]
        }
      ]
    },
    {
      "cell_type": "code",
      "source": [
        "# Convert 'Price' column to numeric\n",
        "df['Price'] = df['Price'].str.replace(',', '').astype(float)\n",
        "\n",
        "# Rename 'Price' column to 'Close'\n",
        "df = df.rename(columns={'Price': 'Close'})\n",
        "\n",
        "# Check the updated data types\n",
        "print(df.dtypes)\n"
      ],
      "metadata": {
        "colab": {
          "base_uri": "https://localhost:8080/"
        },
        "id": "qvcX-cTBJtJn",
        "outputId": "aaac412f-4627-4eb8-a1be-01f0b398f7d8"
      },
      "execution_count": 4,
      "outputs": [
        {
          "output_type": "stream",
          "name": "stdout",
          "text": [
            "Date         object\n",
            "Close       float64\n",
            "Open         object\n",
            "High         object\n",
            "Low          object\n",
            "Vol.         object\n",
            "Change %     object\n",
            "dtype: object\n"
          ]
        }
      ]
    },
    {
      "cell_type": "code",
      "source": [
        "# Define a dictionary to map column names to data types\n",
        "data_types = {\n",
        "    'Date': 'datetime64',\n",
        "    'Close': float,\n",
        "    'Open': float,\n",
        "    'High': float,\n",
        "    'Low': float,\n",
        "    'Vol.': str,\n",
        "    'Change %': str\n",
        "}\n",
        "\n",
        "# Convert the data types of all columns\n",
        "df = df.astype(data_types)\n",
        "\n",
        "# Check the updated data types\n",
        "print(df.dtypes)\n"
      ],
      "metadata": {
        "colab": {
          "base_uri": "https://localhost:8080/",
          "height": 380
        },
        "id": "kwEZDN1cKIUS",
        "outputId": "c10854f7-3358-4374-f3fd-a5a4d745f9f6"
      },
      "execution_count": 5,
      "outputs": [
        {
          "output_type": "error",
          "ename": "ValueError",
          "evalue": "ignored",
          "traceback": [
            "\u001b[0;31m---------------------------------------------------------------------------\u001b[0m",
            "\u001b[0;31mValueError\u001b[0m                                Traceback (most recent call last)",
            "\u001b[0;32m<ipython-input-5-03b4a440e464>\u001b[0m in \u001b[0;36m<cell line: 13>\u001b[0;34m()\u001b[0m\n\u001b[1;32m     11\u001b[0m \u001b[0;34m\u001b[0m\u001b[0m\n\u001b[1;32m     12\u001b[0m \u001b[0;31m# Convert the data types of all columns\u001b[0m\u001b[0;34m\u001b[0m\u001b[0;34m\u001b[0m\u001b[0m\n\u001b[0;32m---> 13\u001b[0;31m \u001b[0mdf\u001b[0m \u001b[0;34m=\u001b[0m \u001b[0mdf\u001b[0m\u001b[0;34m.\u001b[0m\u001b[0mastype\u001b[0m\u001b[0;34m(\u001b[0m\u001b[0mdata_types\u001b[0m\u001b[0;34m)\u001b[0m\u001b[0;34m\u001b[0m\u001b[0;34m\u001b[0m\u001b[0m\n\u001b[0m\u001b[1;32m     14\u001b[0m \u001b[0;34m\u001b[0m\u001b[0m\n\u001b[1;32m     15\u001b[0m \u001b[0;31m# Check the updated data types\u001b[0m\u001b[0;34m\u001b[0m\u001b[0;34m\u001b[0m\u001b[0m\n",
            "\u001b[0;32m/usr/local/lib/python3.10/dist-packages/pandas/core/generic.py\u001b[0m in \u001b[0;36mastype\u001b[0;34m(self, dtype, copy, errors)\u001b[0m\n\u001b[1;32m   6224\u001b[0m                     \u001b[0mres_col\u001b[0m \u001b[0;34m=\u001b[0m \u001b[0mcol\u001b[0m\u001b[0;34m.\u001b[0m\u001b[0mcopy\u001b[0m\u001b[0;34m(\u001b[0m\u001b[0;34m)\u001b[0m \u001b[0;32mif\u001b[0m \u001b[0mcopy\u001b[0m \u001b[0;32melse\u001b[0m \u001b[0mcol\u001b[0m\u001b[0;34m\u001b[0m\u001b[0;34m\u001b[0m\u001b[0m\n\u001b[1;32m   6225\u001b[0m                 \u001b[0;32melse\u001b[0m\u001b[0;34m:\u001b[0m\u001b[0;34m\u001b[0m\u001b[0;34m\u001b[0m\u001b[0m\n\u001b[0;32m-> 6226\u001b[0;31m                     \u001b[0mres_col\u001b[0m \u001b[0;34m=\u001b[0m \u001b[0mcol\u001b[0m\u001b[0;34m.\u001b[0m\u001b[0mastype\u001b[0m\u001b[0;34m(\u001b[0m\u001b[0mdtype\u001b[0m\u001b[0;34m=\u001b[0m\u001b[0mcdt\u001b[0m\u001b[0;34m,\u001b[0m \u001b[0mcopy\u001b[0m\u001b[0;34m=\u001b[0m\u001b[0mcopy\u001b[0m\u001b[0;34m,\u001b[0m \u001b[0merrors\u001b[0m\u001b[0;34m=\u001b[0m\u001b[0merrors\u001b[0m\u001b[0;34m)\u001b[0m\u001b[0;34m\u001b[0m\u001b[0;34m\u001b[0m\u001b[0m\n\u001b[0m\u001b[1;32m   6227\u001b[0m                 \u001b[0mresults\u001b[0m\u001b[0;34m.\u001b[0m\u001b[0mappend\u001b[0m\u001b[0;34m(\u001b[0m\u001b[0mres_col\u001b[0m\u001b[0;34m)\u001b[0m\u001b[0;34m\u001b[0m\u001b[0;34m\u001b[0m\u001b[0m\n\u001b[1;32m   6228\u001b[0m \u001b[0;34m\u001b[0m\u001b[0m\n",
            "\u001b[0;32m/usr/local/lib/python3.10/dist-packages/pandas/core/generic.py\u001b[0m in \u001b[0;36mastype\u001b[0;34m(self, dtype, copy, errors)\u001b[0m\n\u001b[1;32m   6238\u001b[0m         \u001b[0;32melse\u001b[0m\u001b[0;34m:\u001b[0m\u001b[0;34m\u001b[0m\u001b[0;34m\u001b[0m\u001b[0m\n\u001b[1;32m   6239\u001b[0m             \u001b[0;31m# else, only a single dtype is given\u001b[0m\u001b[0;34m\u001b[0m\u001b[0;34m\u001b[0m\u001b[0m\n\u001b[0;32m-> 6240\u001b[0;31m             \u001b[0mnew_data\u001b[0m \u001b[0;34m=\u001b[0m \u001b[0mself\u001b[0m\u001b[0;34m.\u001b[0m\u001b[0m_mgr\u001b[0m\u001b[0;34m.\u001b[0m\u001b[0mastype\u001b[0m\u001b[0;34m(\u001b[0m\u001b[0mdtype\u001b[0m\u001b[0;34m=\u001b[0m\u001b[0mdtype\u001b[0m\u001b[0;34m,\u001b[0m \u001b[0mcopy\u001b[0m\u001b[0;34m=\u001b[0m\u001b[0mcopy\u001b[0m\u001b[0;34m,\u001b[0m \u001b[0merrors\u001b[0m\u001b[0;34m=\u001b[0m\u001b[0merrors\u001b[0m\u001b[0;34m)\u001b[0m\u001b[0;34m\u001b[0m\u001b[0;34m\u001b[0m\u001b[0m\n\u001b[0m\u001b[1;32m   6241\u001b[0m             \u001b[0;32mreturn\u001b[0m \u001b[0mself\u001b[0m\u001b[0;34m.\u001b[0m\u001b[0m_constructor\u001b[0m\u001b[0;34m(\u001b[0m\u001b[0mnew_data\u001b[0m\u001b[0;34m)\u001b[0m\u001b[0;34m.\u001b[0m\u001b[0m__finalize__\u001b[0m\u001b[0;34m(\u001b[0m\u001b[0mself\u001b[0m\u001b[0;34m,\u001b[0m \u001b[0mmethod\u001b[0m\u001b[0;34m=\u001b[0m\u001b[0;34m\"astype\"\u001b[0m\u001b[0;34m)\u001b[0m\u001b[0;34m\u001b[0m\u001b[0;34m\u001b[0m\u001b[0m\n\u001b[1;32m   6242\u001b[0m \u001b[0;34m\u001b[0m\u001b[0m\n",
            "\u001b[0;32m/usr/local/lib/python3.10/dist-packages/pandas/core/internals/managers.py\u001b[0m in \u001b[0;36mastype\u001b[0;34m(self, dtype, copy, errors)\u001b[0m\n\u001b[1;32m    446\u001b[0m \u001b[0;34m\u001b[0m\u001b[0m\n\u001b[1;32m    447\u001b[0m     \u001b[0;32mdef\u001b[0m \u001b[0mastype\u001b[0m\u001b[0;34m(\u001b[0m\u001b[0mself\u001b[0m\u001b[0;34m:\u001b[0m \u001b[0mT\u001b[0m\u001b[0;34m,\u001b[0m \u001b[0mdtype\u001b[0m\u001b[0;34m,\u001b[0m \u001b[0mcopy\u001b[0m\u001b[0;34m:\u001b[0m \u001b[0mbool\u001b[0m \u001b[0;34m=\u001b[0m \u001b[0;32mFalse\u001b[0m\u001b[0;34m,\u001b[0m \u001b[0merrors\u001b[0m\u001b[0;34m:\u001b[0m \u001b[0mstr\u001b[0m \u001b[0;34m=\u001b[0m \u001b[0;34m\"raise\"\u001b[0m\u001b[0;34m)\u001b[0m \u001b[0;34m->\u001b[0m \u001b[0mT\u001b[0m\u001b[0;34m:\u001b[0m\u001b[0;34m\u001b[0m\u001b[0;34m\u001b[0m\u001b[0m\n\u001b[0;32m--> 448\u001b[0;31m         \u001b[0;32mreturn\u001b[0m \u001b[0mself\u001b[0m\u001b[0;34m.\u001b[0m\u001b[0mapply\u001b[0m\u001b[0;34m(\u001b[0m\u001b[0;34m\"astype\"\u001b[0m\u001b[0;34m,\u001b[0m \u001b[0mdtype\u001b[0m\u001b[0;34m=\u001b[0m\u001b[0mdtype\u001b[0m\u001b[0;34m,\u001b[0m \u001b[0mcopy\u001b[0m\u001b[0;34m=\u001b[0m\u001b[0mcopy\u001b[0m\u001b[0;34m,\u001b[0m \u001b[0merrors\u001b[0m\u001b[0;34m=\u001b[0m\u001b[0merrors\u001b[0m\u001b[0;34m)\u001b[0m\u001b[0;34m\u001b[0m\u001b[0;34m\u001b[0m\u001b[0m\n\u001b[0m\u001b[1;32m    449\u001b[0m \u001b[0;34m\u001b[0m\u001b[0m\n\u001b[1;32m    450\u001b[0m     def convert(\n",
            "\u001b[0;32m/usr/local/lib/python3.10/dist-packages/pandas/core/internals/managers.py\u001b[0m in \u001b[0;36mapply\u001b[0;34m(self, f, align_keys, ignore_failures, **kwargs)\u001b[0m\n\u001b[1;32m    350\u001b[0m                     \u001b[0mapplied\u001b[0m \u001b[0;34m=\u001b[0m \u001b[0mb\u001b[0m\u001b[0;34m.\u001b[0m\u001b[0mapply\u001b[0m\u001b[0;34m(\u001b[0m\u001b[0mf\u001b[0m\u001b[0;34m,\u001b[0m \u001b[0;34m**\u001b[0m\u001b[0mkwargs\u001b[0m\u001b[0;34m)\u001b[0m\u001b[0;34m\u001b[0m\u001b[0;34m\u001b[0m\u001b[0m\n\u001b[1;32m    351\u001b[0m                 \u001b[0;32melse\u001b[0m\u001b[0;34m:\u001b[0m\u001b[0;34m\u001b[0m\u001b[0;34m\u001b[0m\u001b[0m\n\u001b[0;32m--> 352\u001b[0;31m                     \u001b[0mapplied\u001b[0m \u001b[0;34m=\u001b[0m \u001b[0mgetattr\u001b[0m\u001b[0;34m(\u001b[0m\u001b[0mb\u001b[0m\u001b[0;34m,\u001b[0m \u001b[0mf\u001b[0m\u001b[0;34m)\u001b[0m\u001b[0;34m(\u001b[0m\u001b[0;34m**\u001b[0m\u001b[0mkwargs\u001b[0m\u001b[0;34m)\u001b[0m\u001b[0;34m\u001b[0m\u001b[0;34m\u001b[0m\u001b[0m\n\u001b[0m\u001b[1;32m    353\u001b[0m             \u001b[0;32mexcept\u001b[0m \u001b[0;34m(\u001b[0m\u001b[0mTypeError\u001b[0m\u001b[0;34m,\u001b[0m \u001b[0mNotImplementedError\u001b[0m\u001b[0;34m)\u001b[0m\u001b[0;34m:\u001b[0m\u001b[0;34m\u001b[0m\u001b[0;34m\u001b[0m\u001b[0m\n\u001b[1;32m    354\u001b[0m                 \u001b[0;32mif\u001b[0m \u001b[0;32mnot\u001b[0m \u001b[0mignore_failures\u001b[0m\u001b[0;34m:\u001b[0m\u001b[0;34m\u001b[0m\u001b[0;34m\u001b[0m\u001b[0m\n",
            "\u001b[0;32m/usr/local/lib/python3.10/dist-packages/pandas/core/internals/blocks.py\u001b[0m in \u001b[0;36mastype\u001b[0;34m(self, dtype, copy, errors)\u001b[0m\n\u001b[1;32m    524\u001b[0m         \u001b[0mvalues\u001b[0m \u001b[0;34m=\u001b[0m \u001b[0mself\u001b[0m\u001b[0;34m.\u001b[0m\u001b[0mvalues\u001b[0m\u001b[0;34m\u001b[0m\u001b[0;34m\u001b[0m\u001b[0m\n\u001b[1;32m    525\u001b[0m \u001b[0;34m\u001b[0m\u001b[0m\n\u001b[0;32m--> 526\u001b[0;31m         \u001b[0mnew_values\u001b[0m \u001b[0;34m=\u001b[0m \u001b[0mastype_array_safe\u001b[0m\u001b[0;34m(\u001b[0m\u001b[0mvalues\u001b[0m\u001b[0;34m,\u001b[0m \u001b[0mdtype\u001b[0m\u001b[0;34m,\u001b[0m \u001b[0mcopy\u001b[0m\u001b[0;34m=\u001b[0m\u001b[0mcopy\u001b[0m\u001b[0;34m,\u001b[0m \u001b[0merrors\u001b[0m\u001b[0;34m=\u001b[0m\u001b[0merrors\u001b[0m\u001b[0;34m)\u001b[0m\u001b[0;34m\u001b[0m\u001b[0;34m\u001b[0m\u001b[0m\n\u001b[0m\u001b[1;32m    527\u001b[0m \u001b[0;34m\u001b[0m\u001b[0m\n\u001b[1;32m    528\u001b[0m         \u001b[0mnew_values\u001b[0m \u001b[0;34m=\u001b[0m \u001b[0mmaybe_coerce_values\u001b[0m\u001b[0;34m(\u001b[0m\u001b[0mnew_values\u001b[0m\u001b[0;34m)\u001b[0m\u001b[0;34m\u001b[0m\u001b[0;34m\u001b[0m\u001b[0m\n",
            "\u001b[0;32m/usr/local/lib/python3.10/dist-packages/pandas/core/dtypes/astype.py\u001b[0m in \u001b[0;36mastype_array_safe\u001b[0;34m(values, dtype, copy, errors)\u001b[0m\n\u001b[1;32m    297\u001b[0m \u001b[0;34m\u001b[0m\u001b[0m\n\u001b[1;32m    298\u001b[0m     \u001b[0;32mtry\u001b[0m\u001b[0;34m:\u001b[0m\u001b[0;34m\u001b[0m\u001b[0;34m\u001b[0m\u001b[0m\n\u001b[0;32m--> 299\u001b[0;31m         \u001b[0mnew_values\u001b[0m \u001b[0;34m=\u001b[0m \u001b[0mastype_array\u001b[0m\u001b[0;34m(\u001b[0m\u001b[0mvalues\u001b[0m\u001b[0;34m,\u001b[0m \u001b[0mdtype\u001b[0m\u001b[0;34m,\u001b[0m \u001b[0mcopy\u001b[0m\u001b[0;34m=\u001b[0m\u001b[0mcopy\u001b[0m\u001b[0;34m)\u001b[0m\u001b[0;34m\u001b[0m\u001b[0;34m\u001b[0m\u001b[0m\n\u001b[0m\u001b[1;32m    300\u001b[0m     \u001b[0;32mexcept\u001b[0m \u001b[0;34m(\u001b[0m\u001b[0mValueError\u001b[0m\u001b[0;34m,\u001b[0m \u001b[0mTypeError\u001b[0m\u001b[0;34m)\u001b[0m\u001b[0;34m:\u001b[0m\u001b[0;34m\u001b[0m\u001b[0;34m\u001b[0m\u001b[0m\n\u001b[1;32m    301\u001b[0m         \u001b[0;31m# e.g. astype_nansafe can fail on object-dtype of strings\u001b[0m\u001b[0;34m\u001b[0m\u001b[0;34m\u001b[0m\u001b[0m\n",
            "\u001b[0;32m/usr/local/lib/python3.10/dist-packages/pandas/core/dtypes/astype.py\u001b[0m in \u001b[0;36mastype_array\u001b[0;34m(values, dtype, copy)\u001b[0m\n\u001b[1;32m    228\u001b[0m \u001b[0;34m\u001b[0m\u001b[0m\n\u001b[1;32m    229\u001b[0m     \u001b[0;32melse\u001b[0m\u001b[0;34m:\u001b[0m\u001b[0;34m\u001b[0m\u001b[0;34m\u001b[0m\u001b[0m\n\u001b[0;32m--> 230\u001b[0;31m         \u001b[0mvalues\u001b[0m \u001b[0;34m=\u001b[0m \u001b[0mastype_nansafe\u001b[0m\u001b[0;34m(\u001b[0m\u001b[0mvalues\u001b[0m\u001b[0;34m,\u001b[0m \u001b[0mdtype\u001b[0m\u001b[0;34m,\u001b[0m \u001b[0mcopy\u001b[0m\u001b[0;34m=\u001b[0m\u001b[0mcopy\u001b[0m\u001b[0;34m)\u001b[0m\u001b[0;34m\u001b[0m\u001b[0;34m\u001b[0m\u001b[0m\n\u001b[0m\u001b[1;32m    231\u001b[0m \u001b[0;34m\u001b[0m\u001b[0m\n\u001b[1;32m    232\u001b[0m     \u001b[0;31m# in pandas we don't store numpy str dtypes, so convert to object\u001b[0m\u001b[0;34m\u001b[0m\u001b[0;34m\u001b[0m\u001b[0m\n",
            "\u001b[0;32m/usr/local/lib/python3.10/dist-packages/pandas/core/dtypes/astype.py\u001b[0m in \u001b[0;36mastype_nansafe\u001b[0;34m(arr, dtype, copy, skipna)\u001b[0m\n\u001b[1;32m    168\u001b[0m     \u001b[0;32mif\u001b[0m \u001b[0mcopy\u001b[0m \u001b[0;32mor\u001b[0m \u001b[0mis_object_dtype\u001b[0m\u001b[0;34m(\u001b[0m\u001b[0marr\u001b[0m\u001b[0;34m.\u001b[0m\u001b[0mdtype\u001b[0m\u001b[0;34m)\u001b[0m \u001b[0;32mor\u001b[0m \u001b[0mis_object_dtype\u001b[0m\u001b[0;34m(\u001b[0m\u001b[0mdtype\u001b[0m\u001b[0;34m)\u001b[0m\u001b[0;34m:\u001b[0m\u001b[0;34m\u001b[0m\u001b[0;34m\u001b[0m\u001b[0m\n\u001b[1;32m    169\u001b[0m         \u001b[0;31m# Explicit copy, or required since NumPy can't view from / to object.\u001b[0m\u001b[0;34m\u001b[0m\u001b[0;34m\u001b[0m\u001b[0m\n\u001b[0;32m--> 170\u001b[0;31m         \u001b[0;32mreturn\u001b[0m \u001b[0marr\u001b[0m\u001b[0;34m.\u001b[0m\u001b[0mastype\u001b[0m\u001b[0;34m(\u001b[0m\u001b[0mdtype\u001b[0m\u001b[0;34m,\u001b[0m \u001b[0mcopy\u001b[0m\u001b[0;34m=\u001b[0m\u001b[0;32mTrue\u001b[0m\u001b[0;34m)\u001b[0m\u001b[0;34m\u001b[0m\u001b[0;34m\u001b[0m\u001b[0m\n\u001b[0m\u001b[1;32m    171\u001b[0m \u001b[0;34m\u001b[0m\u001b[0m\n\u001b[1;32m    172\u001b[0m     \u001b[0;32mreturn\u001b[0m \u001b[0marr\u001b[0m\u001b[0;34m.\u001b[0m\u001b[0mastype\u001b[0m\u001b[0;34m(\u001b[0m\u001b[0mdtype\u001b[0m\u001b[0;34m,\u001b[0m \u001b[0mcopy\u001b[0m\u001b[0;34m=\u001b[0m\u001b[0mcopy\u001b[0m\u001b[0;34m)\u001b[0m\u001b[0;34m\u001b[0m\u001b[0;34m\u001b[0m\u001b[0m\n",
            "\u001b[0;31mValueError\u001b[0m: could not convert string to float: '43,926.35'"
          ]
        }
      ]
    },
    {
      "cell_type": "code",
      "source": [
        "# Remove commas from numerical columns\n",
        "df['Close'] = df['Close'].str.replace(',', '').astype(float)\n",
        "df['Open'] = df['Open'].str.replace(',', '').astype(float)\n",
        "df['High'] = df['High'].str.replace(',', '').astype(float)\n",
        "df['Low'] = df['Low'].str.replace(',', '').astype(float)\n",
        "\n",
        "# Define a dictionary to map column names to data types\n",
        "data_types = {\n",
        "    'Date': 'datetime64',\n",
        "    'Close': float,\n",
        "    'Open': float,\n",
        "    'High': float,\n",
        "    'Low': float,\n",
        "    'Vol.': str,\n",
        "    'Change %': str\n",
        "}\n",
        "\n",
        "# Convert the data types of all columns\n",
        "df = df.astype(data_types)\n",
        "\n",
        "# Check the updated data types\n",
        "print(df.dtypes)\n"
      ],
      "metadata": {
        "colab": {
          "base_uri": "https://localhost:8080/",
          "height": 380
        },
        "id": "UQUnBPeAKMpS",
        "outputId": "9e383b40-b15b-4ba7-832c-308d3d231ce5"
      },
      "execution_count": 6,
      "outputs": [
        {
          "output_type": "error",
          "ename": "AttributeError",
          "evalue": "ignored",
          "traceback": [
            "\u001b[0;31m---------------------------------------------------------------------------\u001b[0m",
            "\u001b[0;31mAttributeError\u001b[0m                            Traceback (most recent call last)",
            "\u001b[0;32m<ipython-input-6-869b625188de>\u001b[0m in \u001b[0;36m<cell line: 2>\u001b[0;34m()\u001b[0m\n\u001b[1;32m      1\u001b[0m \u001b[0;31m# Remove commas from numerical columns\u001b[0m\u001b[0;34m\u001b[0m\u001b[0;34m\u001b[0m\u001b[0m\n\u001b[0;32m----> 2\u001b[0;31m \u001b[0mdf\u001b[0m\u001b[0;34m[\u001b[0m\u001b[0;34m'Close'\u001b[0m\u001b[0;34m]\u001b[0m \u001b[0;34m=\u001b[0m \u001b[0mdf\u001b[0m\u001b[0;34m[\u001b[0m\u001b[0;34m'Close'\u001b[0m\u001b[0;34m]\u001b[0m\u001b[0;34m.\u001b[0m\u001b[0mstr\u001b[0m\u001b[0;34m.\u001b[0m\u001b[0mreplace\u001b[0m\u001b[0;34m(\u001b[0m\u001b[0;34m','\u001b[0m\u001b[0;34m,\u001b[0m \u001b[0;34m''\u001b[0m\u001b[0;34m)\u001b[0m\u001b[0;34m.\u001b[0m\u001b[0mastype\u001b[0m\u001b[0;34m(\u001b[0m\u001b[0mfloat\u001b[0m\u001b[0;34m)\u001b[0m\u001b[0;34m\u001b[0m\u001b[0;34m\u001b[0m\u001b[0m\n\u001b[0m\u001b[1;32m      3\u001b[0m \u001b[0mdf\u001b[0m\u001b[0;34m[\u001b[0m\u001b[0;34m'Open'\u001b[0m\u001b[0;34m]\u001b[0m \u001b[0;34m=\u001b[0m \u001b[0mdf\u001b[0m\u001b[0;34m[\u001b[0m\u001b[0;34m'Open'\u001b[0m\u001b[0;34m]\u001b[0m\u001b[0;34m.\u001b[0m\u001b[0mstr\u001b[0m\u001b[0;34m.\u001b[0m\u001b[0mreplace\u001b[0m\u001b[0;34m(\u001b[0m\u001b[0;34m','\u001b[0m\u001b[0;34m,\u001b[0m \u001b[0;34m''\u001b[0m\u001b[0;34m)\u001b[0m\u001b[0;34m.\u001b[0m\u001b[0mastype\u001b[0m\u001b[0;34m(\u001b[0m\u001b[0mfloat\u001b[0m\u001b[0;34m)\u001b[0m\u001b[0;34m\u001b[0m\u001b[0;34m\u001b[0m\u001b[0m\n\u001b[1;32m      4\u001b[0m \u001b[0mdf\u001b[0m\u001b[0;34m[\u001b[0m\u001b[0;34m'High'\u001b[0m\u001b[0;34m]\u001b[0m \u001b[0;34m=\u001b[0m \u001b[0mdf\u001b[0m\u001b[0;34m[\u001b[0m\u001b[0;34m'High'\u001b[0m\u001b[0;34m]\u001b[0m\u001b[0;34m.\u001b[0m\u001b[0mstr\u001b[0m\u001b[0;34m.\u001b[0m\u001b[0mreplace\u001b[0m\u001b[0;34m(\u001b[0m\u001b[0;34m','\u001b[0m\u001b[0;34m,\u001b[0m \u001b[0;34m''\u001b[0m\u001b[0;34m)\u001b[0m\u001b[0;34m.\u001b[0m\u001b[0mastype\u001b[0m\u001b[0;34m(\u001b[0m\u001b[0mfloat\u001b[0m\u001b[0;34m)\u001b[0m\u001b[0;34m\u001b[0m\u001b[0;34m\u001b[0m\u001b[0m\n\u001b[1;32m      5\u001b[0m \u001b[0mdf\u001b[0m\u001b[0;34m[\u001b[0m\u001b[0;34m'Low'\u001b[0m\u001b[0;34m]\u001b[0m \u001b[0;34m=\u001b[0m \u001b[0mdf\u001b[0m\u001b[0;34m[\u001b[0m\u001b[0;34m'Low'\u001b[0m\u001b[0;34m]\u001b[0m\u001b[0;34m.\u001b[0m\u001b[0mstr\u001b[0m\u001b[0;34m.\u001b[0m\u001b[0mreplace\u001b[0m\u001b[0;34m(\u001b[0m\u001b[0;34m','\u001b[0m\u001b[0;34m,\u001b[0m \u001b[0;34m''\u001b[0m\u001b[0;34m)\u001b[0m\u001b[0;34m.\u001b[0m\u001b[0mastype\u001b[0m\u001b[0;34m(\u001b[0m\u001b[0mfloat\u001b[0m\u001b[0;34m)\u001b[0m\u001b[0;34m\u001b[0m\u001b[0;34m\u001b[0m\u001b[0m\n",
            "\u001b[0;32m/usr/local/lib/python3.10/dist-packages/pandas/core/generic.py\u001b[0m in \u001b[0;36m__getattr__\u001b[0;34m(self, name)\u001b[0m\n\u001b[1;32m   5900\u001b[0m         ):\n\u001b[1;32m   5901\u001b[0m             \u001b[0;32mreturn\u001b[0m \u001b[0mself\u001b[0m\u001b[0;34m[\u001b[0m\u001b[0mname\u001b[0m\u001b[0;34m]\u001b[0m\u001b[0;34m\u001b[0m\u001b[0;34m\u001b[0m\u001b[0m\n\u001b[0;32m-> 5902\u001b[0;31m         \u001b[0;32mreturn\u001b[0m \u001b[0mobject\u001b[0m\u001b[0;34m.\u001b[0m\u001b[0m__getattribute__\u001b[0m\u001b[0;34m(\u001b[0m\u001b[0mself\u001b[0m\u001b[0;34m,\u001b[0m \u001b[0mname\u001b[0m\u001b[0;34m)\u001b[0m\u001b[0;34m\u001b[0m\u001b[0;34m\u001b[0m\u001b[0m\n\u001b[0m\u001b[1;32m   5903\u001b[0m \u001b[0;34m\u001b[0m\u001b[0m\n\u001b[1;32m   5904\u001b[0m     \u001b[0;32mdef\u001b[0m \u001b[0m__setattr__\u001b[0m\u001b[0;34m(\u001b[0m\u001b[0mself\u001b[0m\u001b[0;34m,\u001b[0m \u001b[0mname\u001b[0m\u001b[0;34m:\u001b[0m \u001b[0mstr\u001b[0m\u001b[0;34m,\u001b[0m \u001b[0mvalue\u001b[0m\u001b[0;34m)\u001b[0m \u001b[0;34m->\u001b[0m \u001b[0;32mNone\u001b[0m\u001b[0;34m:\u001b[0m\u001b[0;34m\u001b[0m\u001b[0;34m\u001b[0m\u001b[0m\n",
            "\u001b[0;32m/usr/local/lib/python3.10/dist-packages/pandas/core/accessor.py\u001b[0m in \u001b[0;36m__get__\u001b[0;34m(self, obj, cls)\u001b[0m\n\u001b[1;32m    180\u001b[0m             \u001b[0;31m# we're accessing the attribute of the class, i.e., Dataset.geo\u001b[0m\u001b[0;34m\u001b[0m\u001b[0;34m\u001b[0m\u001b[0m\n\u001b[1;32m    181\u001b[0m             \u001b[0;32mreturn\u001b[0m \u001b[0mself\u001b[0m\u001b[0;34m.\u001b[0m\u001b[0m_accessor\u001b[0m\u001b[0;34m\u001b[0m\u001b[0;34m\u001b[0m\u001b[0m\n\u001b[0;32m--> 182\u001b[0;31m         \u001b[0maccessor_obj\u001b[0m \u001b[0;34m=\u001b[0m \u001b[0mself\u001b[0m\u001b[0;34m.\u001b[0m\u001b[0m_accessor\u001b[0m\u001b[0;34m(\u001b[0m\u001b[0mobj\u001b[0m\u001b[0;34m)\u001b[0m\u001b[0;34m\u001b[0m\u001b[0;34m\u001b[0m\u001b[0m\n\u001b[0m\u001b[1;32m    183\u001b[0m         \u001b[0;31m# Replace the property with the accessor object. Inspired by:\u001b[0m\u001b[0;34m\u001b[0m\u001b[0;34m\u001b[0m\u001b[0m\n\u001b[1;32m    184\u001b[0m         \u001b[0;31m# https://www.pydanny.com/cached-property.html\u001b[0m\u001b[0;34m\u001b[0m\u001b[0;34m\u001b[0m\u001b[0m\n",
            "\u001b[0;32m/usr/local/lib/python3.10/dist-packages/pandas/core/strings/accessor.py\u001b[0m in \u001b[0;36m__init__\u001b[0;34m(self, data)\u001b[0m\n\u001b[1;32m    179\u001b[0m         \u001b[0;32mfrom\u001b[0m \u001b[0mpandas\u001b[0m\u001b[0;34m.\u001b[0m\u001b[0mcore\u001b[0m\u001b[0;34m.\u001b[0m\u001b[0marrays\u001b[0m\u001b[0;34m.\u001b[0m\u001b[0mstring_\u001b[0m \u001b[0;32mimport\u001b[0m \u001b[0mStringDtype\u001b[0m\u001b[0;34m\u001b[0m\u001b[0;34m\u001b[0m\u001b[0m\n\u001b[1;32m    180\u001b[0m \u001b[0;34m\u001b[0m\u001b[0m\n\u001b[0;32m--> 181\u001b[0;31m         \u001b[0mself\u001b[0m\u001b[0;34m.\u001b[0m\u001b[0m_inferred_dtype\u001b[0m \u001b[0;34m=\u001b[0m \u001b[0mself\u001b[0m\u001b[0;34m.\u001b[0m\u001b[0m_validate\u001b[0m\u001b[0;34m(\u001b[0m\u001b[0mdata\u001b[0m\u001b[0;34m)\u001b[0m\u001b[0;34m\u001b[0m\u001b[0;34m\u001b[0m\u001b[0m\n\u001b[0m\u001b[1;32m    182\u001b[0m         \u001b[0mself\u001b[0m\u001b[0;34m.\u001b[0m\u001b[0m_is_categorical\u001b[0m \u001b[0;34m=\u001b[0m \u001b[0mis_categorical_dtype\u001b[0m\u001b[0;34m(\u001b[0m\u001b[0mdata\u001b[0m\u001b[0;34m.\u001b[0m\u001b[0mdtype\u001b[0m\u001b[0;34m)\u001b[0m\u001b[0;34m\u001b[0m\u001b[0;34m\u001b[0m\u001b[0m\n\u001b[1;32m    183\u001b[0m         \u001b[0mself\u001b[0m\u001b[0;34m.\u001b[0m\u001b[0m_is_string\u001b[0m \u001b[0;34m=\u001b[0m \u001b[0misinstance\u001b[0m\u001b[0;34m(\u001b[0m\u001b[0mdata\u001b[0m\u001b[0;34m.\u001b[0m\u001b[0mdtype\u001b[0m\u001b[0;34m,\u001b[0m \u001b[0mStringDtype\u001b[0m\u001b[0;34m)\u001b[0m\u001b[0;34m\u001b[0m\u001b[0;34m\u001b[0m\u001b[0m\n",
            "\u001b[0;32m/usr/local/lib/python3.10/dist-packages/pandas/core/strings/accessor.py\u001b[0m in \u001b[0;36m_validate\u001b[0;34m(data)\u001b[0m\n\u001b[1;32m    233\u001b[0m \u001b[0;34m\u001b[0m\u001b[0m\n\u001b[1;32m    234\u001b[0m         \u001b[0;32mif\u001b[0m \u001b[0minferred_dtype\u001b[0m \u001b[0;32mnot\u001b[0m \u001b[0;32min\u001b[0m \u001b[0mallowed_types\u001b[0m\u001b[0;34m:\u001b[0m\u001b[0;34m\u001b[0m\u001b[0;34m\u001b[0m\u001b[0m\n\u001b[0;32m--> 235\u001b[0;31m             \u001b[0;32mraise\u001b[0m \u001b[0mAttributeError\u001b[0m\u001b[0;34m(\u001b[0m\u001b[0;34m\"Can only use .str accessor with string values!\"\u001b[0m\u001b[0;34m)\u001b[0m\u001b[0;34m\u001b[0m\u001b[0;34m\u001b[0m\u001b[0m\n\u001b[0m\u001b[1;32m    236\u001b[0m         \u001b[0;32mreturn\u001b[0m \u001b[0minferred_dtype\u001b[0m\u001b[0;34m\u001b[0m\u001b[0;34m\u001b[0m\u001b[0m\n\u001b[1;32m    237\u001b[0m \u001b[0;34m\u001b[0m\u001b[0m\n",
            "\u001b[0;31mAttributeError\u001b[0m: Can only use .str accessor with string values!"
          ]
        }
      ]
    },
    {
      "cell_type": "code",
      "source": [
        "# Remove commas from numerical columns\n",
        "df['Close'] = df['Close'].str.replace(',', '').astype(float)\n",
        "df['Open'] = df['Open'].str.replace(',', '').astype(float)\n",
        "df['High'] = df['High'].str.replace(',', '').astype(float)\n",
        "df['Low'] = df['Low'].str.replace(',', '').astype(float)\n",
        "\n",
        "# Define a dictionary to map column names to data types\n",
        "data_types = {\n",
        "    'Date': 'datetime64',\n",
        "    'Close': float,\n",
        "    'Open': float,\n",
        "    'High': float,\n",
        "    'Low': float,\n",
        "    'Vol.': str,\n",
        "    'Change %': str\n",
        "}\n",
        "\n",
        "# Convert the data types of all columns\n",
        "df = df.astype(data_types)\n",
        "\n",
        "# Check the updated data types\n",
        "print(df.dtypes)\n"
      ],
      "metadata": {
        "colab": {
          "base_uri": "https://localhost:8080/",
          "height": 380
        },
        "id": "ZwALNU1IKX6C",
        "outputId": "f129641f-3e58-47e9-9a93-1a487fd80abb"
      },
      "execution_count": 7,
      "outputs": [
        {
          "output_type": "error",
          "ename": "AttributeError",
          "evalue": "ignored",
          "traceback": [
            "\u001b[0;31m---------------------------------------------------------------------------\u001b[0m",
            "\u001b[0;31mAttributeError\u001b[0m                            Traceback (most recent call last)",
            "\u001b[0;32m<ipython-input-7-869b625188de>\u001b[0m in \u001b[0;36m<cell line: 2>\u001b[0;34m()\u001b[0m\n\u001b[1;32m      1\u001b[0m \u001b[0;31m# Remove commas from numerical columns\u001b[0m\u001b[0;34m\u001b[0m\u001b[0;34m\u001b[0m\u001b[0m\n\u001b[0;32m----> 2\u001b[0;31m \u001b[0mdf\u001b[0m\u001b[0;34m[\u001b[0m\u001b[0;34m'Close'\u001b[0m\u001b[0;34m]\u001b[0m \u001b[0;34m=\u001b[0m \u001b[0mdf\u001b[0m\u001b[0;34m[\u001b[0m\u001b[0;34m'Close'\u001b[0m\u001b[0;34m]\u001b[0m\u001b[0;34m.\u001b[0m\u001b[0mstr\u001b[0m\u001b[0;34m.\u001b[0m\u001b[0mreplace\u001b[0m\u001b[0;34m(\u001b[0m\u001b[0;34m','\u001b[0m\u001b[0;34m,\u001b[0m \u001b[0;34m''\u001b[0m\u001b[0;34m)\u001b[0m\u001b[0;34m.\u001b[0m\u001b[0mastype\u001b[0m\u001b[0;34m(\u001b[0m\u001b[0mfloat\u001b[0m\u001b[0;34m)\u001b[0m\u001b[0;34m\u001b[0m\u001b[0;34m\u001b[0m\u001b[0m\n\u001b[0m\u001b[1;32m      3\u001b[0m \u001b[0mdf\u001b[0m\u001b[0;34m[\u001b[0m\u001b[0;34m'Open'\u001b[0m\u001b[0;34m]\u001b[0m \u001b[0;34m=\u001b[0m \u001b[0mdf\u001b[0m\u001b[0;34m[\u001b[0m\u001b[0;34m'Open'\u001b[0m\u001b[0;34m]\u001b[0m\u001b[0;34m.\u001b[0m\u001b[0mstr\u001b[0m\u001b[0;34m.\u001b[0m\u001b[0mreplace\u001b[0m\u001b[0;34m(\u001b[0m\u001b[0;34m','\u001b[0m\u001b[0;34m,\u001b[0m \u001b[0;34m''\u001b[0m\u001b[0;34m)\u001b[0m\u001b[0;34m.\u001b[0m\u001b[0mastype\u001b[0m\u001b[0;34m(\u001b[0m\u001b[0mfloat\u001b[0m\u001b[0;34m)\u001b[0m\u001b[0;34m\u001b[0m\u001b[0;34m\u001b[0m\u001b[0m\n\u001b[1;32m      4\u001b[0m \u001b[0mdf\u001b[0m\u001b[0;34m[\u001b[0m\u001b[0;34m'High'\u001b[0m\u001b[0;34m]\u001b[0m \u001b[0;34m=\u001b[0m \u001b[0mdf\u001b[0m\u001b[0;34m[\u001b[0m\u001b[0;34m'High'\u001b[0m\u001b[0;34m]\u001b[0m\u001b[0;34m.\u001b[0m\u001b[0mstr\u001b[0m\u001b[0;34m.\u001b[0m\u001b[0mreplace\u001b[0m\u001b[0;34m(\u001b[0m\u001b[0;34m','\u001b[0m\u001b[0;34m,\u001b[0m \u001b[0;34m''\u001b[0m\u001b[0;34m)\u001b[0m\u001b[0;34m.\u001b[0m\u001b[0mastype\u001b[0m\u001b[0;34m(\u001b[0m\u001b[0mfloat\u001b[0m\u001b[0;34m)\u001b[0m\u001b[0;34m\u001b[0m\u001b[0;34m\u001b[0m\u001b[0m\n\u001b[1;32m      5\u001b[0m \u001b[0mdf\u001b[0m\u001b[0;34m[\u001b[0m\u001b[0;34m'Low'\u001b[0m\u001b[0;34m]\u001b[0m \u001b[0;34m=\u001b[0m \u001b[0mdf\u001b[0m\u001b[0;34m[\u001b[0m\u001b[0;34m'Low'\u001b[0m\u001b[0;34m]\u001b[0m\u001b[0;34m.\u001b[0m\u001b[0mstr\u001b[0m\u001b[0;34m.\u001b[0m\u001b[0mreplace\u001b[0m\u001b[0;34m(\u001b[0m\u001b[0;34m','\u001b[0m\u001b[0;34m,\u001b[0m \u001b[0;34m''\u001b[0m\u001b[0;34m)\u001b[0m\u001b[0;34m.\u001b[0m\u001b[0mastype\u001b[0m\u001b[0;34m(\u001b[0m\u001b[0mfloat\u001b[0m\u001b[0;34m)\u001b[0m\u001b[0;34m\u001b[0m\u001b[0;34m\u001b[0m\u001b[0m\n",
            "\u001b[0;32m/usr/local/lib/python3.10/dist-packages/pandas/core/generic.py\u001b[0m in \u001b[0;36m__getattr__\u001b[0;34m(self, name)\u001b[0m\n\u001b[1;32m   5900\u001b[0m         ):\n\u001b[1;32m   5901\u001b[0m             \u001b[0;32mreturn\u001b[0m \u001b[0mself\u001b[0m\u001b[0;34m[\u001b[0m\u001b[0mname\u001b[0m\u001b[0;34m]\u001b[0m\u001b[0;34m\u001b[0m\u001b[0;34m\u001b[0m\u001b[0m\n\u001b[0;32m-> 5902\u001b[0;31m         \u001b[0;32mreturn\u001b[0m \u001b[0mobject\u001b[0m\u001b[0;34m.\u001b[0m\u001b[0m__getattribute__\u001b[0m\u001b[0;34m(\u001b[0m\u001b[0mself\u001b[0m\u001b[0;34m,\u001b[0m \u001b[0mname\u001b[0m\u001b[0;34m)\u001b[0m\u001b[0;34m\u001b[0m\u001b[0;34m\u001b[0m\u001b[0m\n\u001b[0m\u001b[1;32m   5903\u001b[0m \u001b[0;34m\u001b[0m\u001b[0m\n\u001b[1;32m   5904\u001b[0m     \u001b[0;32mdef\u001b[0m \u001b[0m__setattr__\u001b[0m\u001b[0;34m(\u001b[0m\u001b[0mself\u001b[0m\u001b[0;34m,\u001b[0m \u001b[0mname\u001b[0m\u001b[0;34m:\u001b[0m \u001b[0mstr\u001b[0m\u001b[0;34m,\u001b[0m \u001b[0mvalue\u001b[0m\u001b[0;34m)\u001b[0m \u001b[0;34m->\u001b[0m \u001b[0;32mNone\u001b[0m\u001b[0;34m:\u001b[0m\u001b[0;34m\u001b[0m\u001b[0;34m\u001b[0m\u001b[0m\n",
            "\u001b[0;32m/usr/local/lib/python3.10/dist-packages/pandas/core/accessor.py\u001b[0m in \u001b[0;36m__get__\u001b[0;34m(self, obj, cls)\u001b[0m\n\u001b[1;32m    180\u001b[0m             \u001b[0;31m# we're accessing the attribute of the class, i.e., Dataset.geo\u001b[0m\u001b[0;34m\u001b[0m\u001b[0;34m\u001b[0m\u001b[0m\n\u001b[1;32m    181\u001b[0m             \u001b[0;32mreturn\u001b[0m \u001b[0mself\u001b[0m\u001b[0;34m.\u001b[0m\u001b[0m_accessor\u001b[0m\u001b[0;34m\u001b[0m\u001b[0;34m\u001b[0m\u001b[0m\n\u001b[0;32m--> 182\u001b[0;31m         \u001b[0maccessor_obj\u001b[0m \u001b[0;34m=\u001b[0m \u001b[0mself\u001b[0m\u001b[0;34m.\u001b[0m\u001b[0m_accessor\u001b[0m\u001b[0;34m(\u001b[0m\u001b[0mobj\u001b[0m\u001b[0;34m)\u001b[0m\u001b[0;34m\u001b[0m\u001b[0;34m\u001b[0m\u001b[0m\n\u001b[0m\u001b[1;32m    183\u001b[0m         \u001b[0;31m# Replace the property with the accessor object. Inspired by:\u001b[0m\u001b[0;34m\u001b[0m\u001b[0;34m\u001b[0m\u001b[0m\n\u001b[1;32m    184\u001b[0m         \u001b[0;31m# https://www.pydanny.com/cached-property.html\u001b[0m\u001b[0;34m\u001b[0m\u001b[0;34m\u001b[0m\u001b[0m\n",
            "\u001b[0;32m/usr/local/lib/python3.10/dist-packages/pandas/core/strings/accessor.py\u001b[0m in \u001b[0;36m__init__\u001b[0;34m(self, data)\u001b[0m\n\u001b[1;32m    179\u001b[0m         \u001b[0;32mfrom\u001b[0m \u001b[0mpandas\u001b[0m\u001b[0;34m.\u001b[0m\u001b[0mcore\u001b[0m\u001b[0;34m.\u001b[0m\u001b[0marrays\u001b[0m\u001b[0;34m.\u001b[0m\u001b[0mstring_\u001b[0m \u001b[0;32mimport\u001b[0m \u001b[0mStringDtype\u001b[0m\u001b[0;34m\u001b[0m\u001b[0;34m\u001b[0m\u001b[0m\n\u001b[1;32m    180\u001b[0m \u001b[0;34m\u001b[0m\u001b[0m\n\u001b[0;32m--> 181\u001b[0;31m         \u001b[0mself\u001b[0m\u001b[0;34m.\u001b[0m\u001b[0m_inferred_dtype\u001b[0m \u001b[0;34m=\u001b[0m \u001b[0mself\u001b[0m\u001b[0;34m.\u001b[0m\u001b[0m_validate\u001b[0m\u001b[0;34m(\u001b[0m\u001b[0mdata\u001b[0m\u001b[0;34m)\u001b[0m\u001b[0;34m\u001b[0m\u001b[0;34m\u001b[0m\u001b[0m\n\u001b[0m\u001b[1;32m    182\u001b[0m         \u001b[0mself\u001b[0m\u001b[0;34m.\u001b[0m\u001b[0m_is_categorical\u001b[0m \u001b[0;34m=\u001b[0m \u001b[0mis_categorical_dtype\u001b[0m\u001b[0;34m(\u001b[0m\u001b[0mdata\u001b[0m\u001b[0;34m.\u001b[0m\u001b[0mdtype\u001b[0m\u001b[0;34m)\u001b[0m\u001b[0;34m\u001b[0m\u001b[0;34m\u001b[0m\u001b[0m\n\u001b[1;32m    183\u001b[0m         \u001b[0mself\u001b[0m\u001b[0;34m.\u001b[0m\u001b[0m_is_string\u001b[0m \u001b[0;34m=\u001b[0m \u001b[0misinstance\u001b[0m\u001b[0;34m(\u001b[0m\u001b[0mdata\u001b[0m\u001b[0;34m.\u001b[0m\u001b[0mdtype\u001b[0m\u001b[0;34m,\u001b[0m \u001b[0mStringDtype\u001b[0m\u001b[0;34m)\u001b[0m\u001b[0;34m\u001b[0m\u001b[0;34m\u001b[0m\u001b[0m\n",
            "\u001b[0;32m/usr/local/lib/python3.10/dist-packages/pandas/core/strings/accessor.py\u001b[0m in \u001b[0;36m_validate\u001b[0;34m(data)\u001b[0m\n\u001b[1;32m    233\u001b[0m \u001b[0;34m\u001b[0m\u001b[0m\n\u001b[1;32m    234\u001b[0m         \u001b[0;32mif\u001b[0m \u001b[0minferred_dtype\u001b[0m \u001b[0;32mnot\u001b[0m \u001b[0;32min\u001b[0m \u001b[0mallowed_types\u001b[0m\u001b[0;34m:\u001b[0m\u001b[0;34m\u001b[0m\u001b[0;34m\u001b[0m\u001b[0m\n\u001b[0;32m--> 235\u001b[0;31m             \u001b[0;32mraise\u001b[0m \u001b[0mAttributeError\u001b[0m\u001b[0;34m(\u001b[0m\u001b[0;34m\"Can only use .str accessor with string values!\"\u001b[0m\u001b[0;34m)\u001b[0m\u001b[0;34m\u001b[0m\u001b[0;34m\u001b[0m\u001b[0m\n\u001b[0m\u001b[1;32m    236\u001b[0m         \u001b[0;32mreturn\u001b[0m \u001b[0minferred_dtype\u001b[0m\u001b[0;34m\u001b[0m\u001b[0;34m\u001b[0m\u001b[0m\n\u001b[1;32m    237\u001b[0m \u001b[0;34m\u001b[0m\u001b[0m\n",
            "\u001b[0;31mAttributeError\u001b[0m: Can only use .str accessor with string values!"
          ]
        }
      ]
    },
    {
      "cell_type": "code",
      "source": [
        "import numpy as np\n",
        "\n",
        "# Remove commas from numerical columns and convert to float\n",
        "df['Close'] = df['Close'].replace(',', '', regex=True).astype(float)\n",
        "df['Open'] = df['Open'].replace(',', '', regex=True).astype(float)\n",
        "df['High'] = df['High'].replace(',', '', regex=True).astype(float)\n",
        "df['Low'] = df['Low'].replace(',', '', regex=True).astype(float)\n",
        "\n",
        "# Define a dictionary to map column names to data types\n",
        "data_types = {\n",
        "    'Date': 'datetime64',\n",
        "    'Close': float,\n",
        "    'Open': float,\n",
        "    'High': float,\n",
        "    'Low': float,\n",
        "    'Vol.': str,\n",
        "    'Change %': str\n",
        "}\n",
        "\n",
        "# Convert the data types of all columns\n",
        "df = df.astype(data_types)\n",
        "\n",
        "# Check the updated data types\n",
        "print(df.dtypes)\n"
      ],
      "metadata": {
        "colab": {
          "base_uri": "https://localhost:8080/"
        },
        "id": "LUA8YPWPKfbI",
        "outputId": "699d9a14-bd61-4c2a-ec1d-05ac88010930"
      },
      "execution_count": 8,
      "outputs": [
        {
          "output_type": "stream",
          "name": "stdout",
          "text": [
            "Date        datetime64[ns]\n",
            "Close              float64\n",
            "Open               float64\n",
            "High               float64\n",
            "Low                float64\n",
            "Vol.                object\n",
            "Change %            object\n",
            "dtype: object\n"
          ]
        }
      ]
    },
    {
      "cell_type": "code",
      "source": [
        "import numpy as np\n",
        "\n",
        "# Remove percentage symbol from 'Change %' column and convert to float\n",
        "df['Change %'] = df['Change %'].str.replace('%', '').astype(float)\n",
        "\n",
        "# Define a dictionary to map column names to data types\n",
        "data_types = {\n",
        "    \n",
        "    'Change %': float\n",
        "}\n",
        "\n",
        "\n",
        "# Check the updated data types\n",
        "print(df.dtypes)\n"
      ],
      "metadata": {
        "colab": {
          "base_uri": "https://localhost:8080/"
        },
        "id": "h-7CEPUjKmrz",
        "outputId": "ead16902-6e3f-4e5a-fb71-ee3b5b841207"
      },
      "execution_count": 9,
      "outputs": [
        {
          "output_type": "stream",
          "name": "stdout",
          "text": [
            "Date        datetime64[ns]\n",
            "Close              float64\n",
            "Open               float64\n",
            "High               float64\n",
            "Low                float64\n",
            "Vol.                object\n",
            "Change %           float64\n",
            "dtype: object\n"
          ]
        }
      ]
    },
    {
      "cell_type": "code",
      "source": [
        "# Check the number of columns\n",
        "num_columns = len(df.columns)\n",
        "print(\"Number of columns:\", num_columns)\n",
        "num_rows = df.shape[0]\n",
        "print(\"Number of rows:\", num_rows)\n",
        "\n",
        "# Display the top 5 rows of data\n",
        "top_5_data = df.head(10)\n",
        "print(\"\\nTop 5 rows of data:\")\n",
        "print(top_5_data)\n"
      ],
      "metadata": {
        "colab": {
          "base_uri": "https://localhost:8080/"
        },
        "id": "pQP3qdrAK_uW",
        "outputId": "604e7200-2f8a-4832-e6e1-db807f3dd377"
      },
      "execution_count": 13,
      "outputs": [
        {
          "output_type": "stream",
          "name": "stdout",
          "text": [
            "Number of columns: 7\n",
            "Number of rows: 3068\n",
            "\n",
            "Top 5 rows of data:\n",
            "        Date     Close      Open      High       Low     Vol.  Change %\n",
            "0 2023-05-23  44054.75  43926.35  44081.05  43873.85   54.47K      0.39\n",
            "1 2023-05-22  43885.10  43935.30  44026.75  43684.90  183.78M     -0.19\n",
            "2 2023-05-19  43969.40  43930.00  44020.90  43531.90  192.04M      0.50\n",
            "3 2023-05-18  43752.30  44006.90  44079.20  43673.70  226.49M      0.12\n",
            "4 2023-05-17  43698.70  43948.50  43992.75  43446.40  203.60M     -0.47\n",
            "5 2023-05-16  43903.70  44144.15  44144.15  43815.70  222.54M     -0.38\n",
            "6 2023-05-15  44072.10  43821.05  44151.70  43666.60  161.26M      0.64\n",
            "7 2023-05-12  43793.55  43447.15  43905.95  43347.75  144.94M      0.73\n",
            "8 2023-05-11  43475.30  43535.10  43774.25  43367.25  190.69M      0.33\n",
            "9 2023-05-10  43331.05  43275.25  43383.65  42822.15  249.13M      0.31\n"
          ]
        }
      ]
    },
    {
      "cell_type": "code",
      "source": [
        "\n",
        "\n",
        "\n",
        "# Display the updated DataFrame with the 'Day' column moved to the right\n",
        "print(df)\n",
        "\n"
      ],
      "metadata": {
        "colab": {
          "base_uri": "https://localhost:8080/"
        },
        "id": "yuHvyrNFLQ4k",
        "outputId": "e7f3acc5-e5cb-4521-d47b-38c7ce73a430"
      },
      "execution_count": 16,
      "outputs": [
        {
          "output_type": "stream",
          "name": "stdout",
          "text": [
            "           Date     Close      Open      High       Low     Vol.  Change %  \\\n",
            "0    2023-05-23  44054.75  43926.35  44081.05  43873.85   54.47K      0.39   \n",
            "1    2023-05-22  43885.10  43935.30  44026.75  43684.90  183.78M     -0.19   \n",
            "2    2023-05-19  43969.40  43930.00  44020.90  43531.90  192.04M      0.50   \n",
            "3    2023-05-18  43752.30  44006.90  44079.20  43673.70  226.49M      0.12   \n",
            "4    2023-05-17  43698.70  43948.50  43992.75  43446.40  203.60M     -0.47   \n",
            "...         ...       ...       ...       ...       ...      ...       ...   \n",
            "3063 2011-01-07  11053.35  11146.45  11258.50  11007.90   25.19M     -1.19   \n",
            "3064 2011-01-06  11186.80  11350.70  11377.10  11164.75   19.56M     -1.05   \n",
            "3065 2011-01-05  11305.45  11545.75  11545.75  11265.55   19.69M     -2.24   \n",
            "3066 2011-01-04  11564.05  11868.40  11872.80  11545.55   16.04M     -2.46   \n",
            "3067 2011-01-03  11855.75  11882.10  11912.15  11826.95    8.90M      0.55   \n",
            "\n",
            "            Day  \n",
            "0       Tuesday  \n",
            "1        Monday  \n",
            "2        Friday  \n",
            "3      Thursday  \n",
            "4     Wednesday  \n",
            "...         ...  \n",
            "3063     Friday  \n",
            "3064   Thursday  \n",
            "3065  Wednesday  \n",
            "3066    Tuesday  \n",
            "3067     Monday  \n",
            "\n",
            "[3068 rows x 8 columns]\n"
          ]
        }
      ]
    },
    {
      "cell_type": "code",
      "source": [
        "# Get the 'Day' column\n",
        "day_column = df['Day']\n",
        "\n",
        "# Remove the 'Day' column from the DataFrame\n",
        "df = df.drop(columns=['Day'])\n",
        "\n",
        "# Insert the 'Day' column at the second position (right after the 'Date' column)\n",
        "df.insert(1, 'Day', day_column)\n",
        "\n",
        "# Display the updated DataFrame with the 'Day' column shifted to the right\n",
        "print(df)\n"
      ],
      "metadata": {
        "colab": {
          "base_uri": "https://localhost:8080/"
        },
        "id": "oDE-YelYMUyf",
        "outputId": "8ffc466d-307a-4cfc-f2c4-1bd4d7cff1e9"
      },
      "execution_count": 17,
      "outputs": [
        {
          "output_type": "stream",
          "name": "stdout",
          "text": [
            "           Date        Day     Close      Open      High       Low     Vol.  \\\n",
            "0    2023-05-23    Tuesday  44054.75  43926.35  44081.05  43873.85   54.47K   \n",
            "1    2023-05-22     Monday  43885.10  43935.30  44026.75  43684.90  183.78M   \n",
            "2    2023-05-19     Friday  43969.40  43930.00  44020.90  43531.90  192.04M   \n",
            "3    2023-05-18   Thursday  43752.30  44006.90  44079.20  43673.70  226.49M   \n",
            "4    2023-05-17  Wednesday  43698.70  43948.50  43992.75  43446.40  203.60M   \n",
            "...         ...        ...       ...       ...       ...       ...      ...   \n",
            "3063 2011-01-07     Friday  11053.35  11146.45  11258.50  11007.90   25.19M   \n",
            "3064 2011-01-06   Thursday  11186.80  11350.70  11377.10  11164.75   19.56M   \n",
            "3065 2011-01-05  Wednesday  11305.45  11545.75  11545.75  11265.55   19.69M   \n",
            "3066 2011-01-04    Tuesday  11564.05  11868.40  11872.80  11545.55   16.04M   \n",
            "3067 2011-01-03     Monday  11855.75  11882.10  11912.15  11826.95    8.90M   \n",
            "\n",
            "      Change %  \n",
            "0         0.39  \n",
            "1        -0.19  \n",
            "2         0.50  \n",
            "3         0.12  \n",
            "4        -0.47  \n",
            "...        ...  \n",
            "3063     -1.19  \n",
            "3064     -1.05  \n",
            "3065     -2.24  \n",
            "3066     -2.46  \n",
            "3067      0.55  \n",
            "\n",
            "[3068 rows x 8 columns]\n"
          ]
        }
      ]
    },
    {
      "cell_type": "code",
      "source": [
        "print(df)\n"
      ],
      "metadata": {
        "colab": {
          "base_uri": "https://localhost:8080/"
        },
        "id": "FHI8MwZSMqiN",
        "outputId": "d8fca0d2-bf69-454b-a043-452b2448424b"
      },
      "execution_count": 27,
      "outputs": [
        {
          "output_type": "stream",
          "name": "stdout",
          "text": [
            "                  Day     Close      Open      High       Low  Change %\n",
            "Date                                                                   \n",
            "2023-05-23    Tuesday  44054.75  43926.35  44081.05  43873.85      0.39\n",
            "2023-05-22     Monday  43885.10  43935.30  44026.75  43684.90     -0.19\n",
            "2023-05-19     Friday  43969.40  43930.00  44020.90  43531.90      0.50\n",
            "2023-05-18   Thursday  43752.30  44006.90  44079.20  43673.70      0.12\n",
            "2023-05-17  Wednesday  43698.70  43948.50  43992.75  43446.40     -0.47\n",
            "...               ...       ...       ...       ...       ...       ...\n",
            "2011-01-07     Friday  11053.35  11146.45  11258.50  11007.90     -1.19\n",
            "2011-01-06   Thursday  11186.80  11350.70  11377.10  11164.75     -1.05\n",
            "2011-01-05  Wednesday  11305.45  11545.75  11545.75  11265.55     -2.24\n",
            "2011-01-04    Tuesday  11564.05  11868.40  11872.80  11545.55     -2.46\n",
            "2011-01-03     Monday  11855.75  11882.10  11912.15  11826.95      0.55\n",
            "\n",
            "[3068 rows x 6 columns]\n"
          ]
        }
      ]
    },
    {
      "cell_type": "code",
      "source": [
        "# Add the 'Date' column back to the DataFrame\n",
        "df['Date'] = df.index\n",
        "\n",
        "# Set 'Date' column as the index\n",
        "df.set_index('Date', inplace=True)\n",
        "\n",
        "# Sort the DataFrame by date in ascending order\n",
        "df.sort_index(inplace=True)\n",
        "\n",
        "# Reset the index\n",
        "df.reset_index(inplace=True)\n",
        "\n",
        "# Create a new column 'Week' to indicate the week number\n",
        "df['Week'] = ((df.index - df.index[0]) // 5) + 1\n",
        "\n",
        "# Display the updated DataFrame\n",
        "print(df)\n"
      ],
      "metadata": {
        "colab": {
          "base_uri": "https://localhost:8080/"
        },
        "id": "nY4Jc4RxQ2ow",
        "outputId": "2451413b-e879-4442-c679-10b41cec5243"
      },
      "execution_count": 28,
      "outputs": [
        {
          "output_type": "stream",
          "name": "stdout",
          "text": [
            "           Date        Day     Close      Open      High       Low  Change %  \\\n",
            "0    2011-01-03     Monday  11855.75  11882.10  11912.15  11826.95      0.55   \n",
            "1    2011-01-04    Tuesday  11564.05  11868.40  11872.80  11545.55     -2.46   \n",
            "2    2011-01-05  Wednesday  11305.45  11545.75  11545.75  11265.55     -2.24   \n",
            "3    2011-01-06   Thursday  11186.80  11350.70  11377.10  11164.75     -1.05   \n",
            "4    2011-01-07     Friday  11053.35  11146.45  11258.50  11007.90     -1.19   \n",
            "...         ...        ...       ...       ...       ...       ...       ...   \n",
            "3063 2023-05-17  Wednesday  43698.70  43948.50  43992.75  43446.40     -0.47   \n",
            "3064 2023-05-18   Thursday  43752.30  44006.90  44079.20  43673.70      0.12   \n",
            "3065 2023-05-19     Friday  43969.40  43930.00  44020.90  43531.90      0.50   \n",
            "3066 2023-05-22     Monday  43885.10  43935.30  44026.75  43684.90     -0.19   \n",
            "3067 2023-05-23    Tuesday  44054.75  43926.35  44081.05  43873.85      0.39   \n",
            "\n",
            "      Week  \n",
            "0        1  \n",
            "1        1  \n",
            "2        1  \n",
            "3        1  \n",
            "4        1  \n",
            "...    ...  \n",
            "3063   613  \n",
            "3064   613  \n",
            "3065   614  \n",
            "3066   614  \n",
            "3067   614  \n",
            "\n",
            "[3068 rows x 8 columns]\n"
          ]
        }
      ]
    },
    {
      "cell_type": "code",
      "source": [
        "df.set_index('Week', inplace=True)\n",
        "df.reset_index(inplace=True)\n"
      ],
      "metadata": {
        "id": "ZmiN8kFFR04u"
      },
      "execution_count": 29,
      "outputs": []
    },
    {
      "cell_type": "code",
      "source": [
        "print(df)"
      ],
      "metadata": {
        "colab": {
          "base_uri": "https://localhost:8080/"
        },
        "id": "LxJmph5pSVU7",
        "outputId": "77116526-db42-401c-bb84-108fa0b23ee2"
      },
      "execution_count": 30,
      "outputs": [
        {
          "output_type": "stream",
          "name": "stdout",
          "text": [
            "      Week       Date        Day     Close      Open      High       Low  \\\n",
            "0        1 2011-01-03     Monday  11855.75  11882.10  11912.15  11826.95   \n",
            "1        1 2011-01-04    Tuesday  11564.05  11868.40  11872.80  11545.55   \n",
            "2        1 2011-01-05  Wednesday  11305.45  11545.75  11545.75  11265.55   \n",
            "3        1 2011-01-06   Thursday  11186.80  11350.70  11377.10  11164.75   \n",
            "4        1 2011-01-07     Friday  11053.35  11146.45  11258.50  11007.90   \n",
            "...    ...        ...        ...       ...       ...       ...       ...   \n",
            "3063   613 2023-05-17  Wednesday  43698.70  43948.50  43992.75  43446.40   \n",
            "3064   613 2023-05-18   Thursday  43752.30  44006.90  44079.20  43673.70   \n",
            "3065   614 2023-05-19     Friday  43969.40  43930.00  44020.90  43531.90   \n",
            "3066   614 2023-05-22     Monday  43885.10  43935.30  44026.75  43684.90   \n",
            "3067   614 2023-05-23    Tuesday  44054.75  43926.35  44081.05  43873.85   \n",
            "\n",
            "      Change %  \n",
            "0         0.55  \n",
            "1        -2.46  \n",
            "2        -2.24  \n",
            "3        -1.05  \n",
            "4        -1.19  \n",
            "...        ...  \n",
            "3063     -0.47  \n",
            "3064      0.12  \n",
            "3065      0.50  \n",
            "3066     -0.19  \n",
            "3067      0.39  \n",
            "\n",
            "[3068 rows x 8 columns]\n"
          ]
        }
      ]
    },
    {
      "cell_type": "code",
      "source": [
        "print(df.head(17))\n"
      ],
      "metadata": {
        "colab": {
          "base_uri": "https://localhost:8080/"
        },
        "id": "OrZb_P2KSccc",
        "outputId": "56723ebe-2704-4fd8-d1ab-0ae542776739"
      },
      "execution_count": 32,
      "outputs": [
        {
          "output_type": "stream",
          "name": "stdout",
          "text": [
            "    Week       Date        Day     Close      Open      High       Low  \\\n",
            "0      1 2011-01-03     Monday  11855.75  11882.10  11912.15  11826.95   \n",
            "1      1 2011-01-04    Tuesday  11564.05  11868.40  11872.80  11545.55   \n",
            "2      1 2011-01-05  Wednesday  11305.45  11545.75  11545.75  11265.55   \n",
            "3      1 2011-01-06   Thursday  11186.80  11350.70  11377.10  11164.75   \n",
            "4      1 2011-01-07     Friday  11053.35  11146.45  11258.50  11007.90   \n",
            "5      2 2011-01-10     Monday  10700.65  11024.50  11072.70  10671.60   \n",
            "6      2 2011-01-11    Tuesday  10833.55  10734.20  10951.20  10620.80   \n",
            "7      2 2011-01-12  Wednesday  11128.15  10906.40  11161.15  10728.45   \n",
            "8      2 2011-01-13   Thursday  10716.65  11125.95  11127.95  10676.50   \n",
            "9      2 2011-01-14     Friday  10432.90  10746.80  10907.30  10387.90   \n",
            "10     3 2011-01-17     Monday  10471.10  10459.60  10571.80  10373.80   \n",
            "11     3 2011-01-18    Tuesday  10618.50  10534.30  10677.95  10520.30   \n",
            "12     3 2011-01-19  Wednesday  10615.15  10646.00  10715.05  10562.25   \n",
            "13     3 2011-01-20   Thursday  10798.35  10579.25  10878.80  10493.25   \n",
            "14     3 2011-01-21     Friday  10889.40  10750.40  10923.70  10740.00   \n",
            "15     4 2011-01-24     Monday  11151.15  10923.75  11177.85  10913.45   \n",
            "16     4 2011-01-25    Tuesday  10872.95  11183.55  11256.95  10849.40   \n",
            "\n",
            "    Change %  \n",
            "0       0.55  \n",
            "1      -2.46  \n",
            "2      -2.24  \n",
            "3      -1.05  \n",
            "4      -1.19  \n",
            "5      -3.19  \n",
            "6       1.24  \n",
            "7       2.72  \n",
            "8      -3.70  \n",
            "9      -2.65  \n",
            "10      0.37  \n",
            "11      1.41  \n",
            "12     -0.03  \n",
            "13      1.73  \n",
            "14      0.84  \n",
            "15      2.40  \n",
            "16     -2.49  \n"
          ]
        }
      ]
    },
    {
      "cell_type": "code",
      "source": [
        "# Add a new column 'Week' based on the adjusted week numbering\n",
        "df['Week'] = df['Date'].diff().dt.days.gt(1).cumsum().add(1)\n",
        "\n",
        "# Print the first 10 rows of the DataFrame\n",
        "print(df.head(50))\n"
      ],
      "metadata": {
        "colab": {
          "base_uri": "https://localhost:8080/"
        },
        "id": "7Hdk_7eRSvjB",
        "outputId": "f80744d2-1767-493d-dfe0-14eedca477cc"
      },
      "execution_count": 33,
      "outputs": [
        {
          "output_type": "stream",
          "name": "stdout",
          "text": [
            "    Week       Date        Day     Close      Open      High       Low  \\\n",
            "0      1 2011-01-03     Monday  11855.75  11882.10  11912.15  11826.95   \n",
            "1      1 2011-01-04    Tuesday  11564.05  11868.40  11872.80  11545.55   \n",
            "2      1 2011-01-05  Wednesday  11305.45  11545.75  11545.75  11265.55   \n",
            "3      1 2011-01-06   Thursday  11186.80  11350.70  11377.10  11164.75   \n",
            "4      1 2011-01-07     Friday  11053.35  11146.45  11258.50  11007.90   \n",
            "5      2 2011-01-10     Monday  10700.65  11024.50  11072.70  10671.60   \n",
            "6      2 2011-01-11    Tuesday  10833.55  10734.20  10951.20  10620.80   \n",
            "7      2 2011-01-12  Wednesday  11128.15  10906.40  11161.15  10728.45   \n",
            "8      2 2011-01-13   Thursday  10716.65  11125.95  11127.95  10676.50   \n",
            "9      2 2011-01-14     Friday  10432.90  10746.80  10907.30  10387.90   \n",
            "10     3 2011-01-17     Monday  10471.10  10459.60  10571.80  10373.80   \n",
            "11     3 2011-01-18    Tuesday  10618.50  10534.30  10677.95  10520.30   \n",
            "12     3 2011-01-19  Wednesday  10615.15  10646.00  10715.05  10562.25   \n",
            "13     3 2011-01-20   Thursday  10798.35  10579.25  10878.80  10493.25   \n",
            "14     3 2011-01-21     Friday  10889.40  10750.40  10923.70  10740.00   \n",
            "15     4 2011-01-24     Monday  11151.15  10923.75  11177.85  10913.45   \n",
            "16     4 2011-01-25    Tuesday  10872.95  11183.55  11256.95  10849.40   \n",
            "17     5 2011-01-27   Thursday  10676.15  10946.40  10970.85  10639.85   \n",
            "18     5 2011-01-28     Friday  10578.25  10690.05  10736.40  10481.10   \n",
            "19     6 2011-01-31     Monday  10641.85  10444.35  10696.30  10400.25   \n",
            "20     6 2011-02-01    Tuesday  10481.20  10683.45  10683.45  10457.80   \n",
            "21     6 2011-02-02  Wednesday  10470.15  10599.00  10614.95  10418.20   \n",
            "22     6 2011-02-03   Thursday  10670.60  10460.95  10704.30  10429.50   \n",
            "23     6 2011-02-04     Friday  10433.85  10632.90  10772.45  10385.90   \n",
            "24     7 2011-02-07     Monday  10384.05  10457.80  10509.80  10354.60   \n",
            "25     7 2011-02-08    Tuesday  10147.75  10431.05  10431.05  10119.45   \n",
            "26     7 2011-02-09  Wednesday  10116.65  10131.35  10294.80  10038.15   \n",
            "27     7 2011-02-10   Thursday  10074.10  10106.25  10227.75  10017.85   \n",
            "28     7 2011-02-11     Friday  10447.75  10061.40  10473.45  10061.40   \n",
            "29     8 2011-02-14     Monday  10802.55  10477.85  10815.70  10477.85   \n",
            "30     8 2011-02-15    Tuesday  10959.70  10821.50  11035.15  10722.70   \n",
            "31     8 2011-02-16  Wednesday  10960.70  10929.25  11024.25  10908.65   \n",
            "32     8 2011-02-17   Thursday  11134.70  10996.25  11190.20  10918.10   \n",
            "33     8 2011-02-18     Friday  10949.70  11153.80  11300.45  10915.35   \n",
            "34     9 2011-02-21     Monday  11050.10  10935.30  11070.35  10806.30   \n",
            "35     9 2011-02-22    Tuesday  10836.80  10957.50  10957.50  10777.65   \n",
            "36     9 2011-02-23  Wednesday  10646.45  10776.80  10857.85  10628.65   \n",
            "37     9 2011-02-24   Thursday  10210.75  10603.25  10643.25  10169.00   \n",
            "38     9 2011-02-25     Friday  10435.85  10329.65  10510.50  10263.15   \n",
            "39    10 2011-02-28     Monday  10435.35  10512.20  10744.85  10364.35   \n",
            "40    10 2011-03-01    Tuesday  10885.40  10541.95  10906.15  10528.35   \n",
            "41    11 2011-03-03   Thursday  10914.50  10805.00  11066.40  10759.70   \n",
            "42    11 2011-03-04     Friday  10963.40  11008.90  11134.10  10924.10   \n",
            "43    12 2011-03-07     Monday  10782.25  10886.10  10886.10  10658.30   \n",
            "44    12 2011-03-08    Tuesday  10931.55  10782.60  10962.70  10779.15   \n",
            "45    12 2011-03-09  Wednesday  10974.80  10987.40  11054.00  10904.60   \n",
            "46    12 2011-03-10   Thursday  10850.25  10920.65  10920.65  10783.30   \n",
            "47    12 2011-03-11     Friday  10740.95  10772.90  10904.20  10697.10   \n",
            "48    13 2011-03-14     Monday  10893.25  10730.40  10916.65  10730.40   \n",
            "49    13 2011-03-15    Tuesday  10725.80  10673.90  10784.20  10591.30   \n",
            "\n",
            "    Change %  \n",
            "0       0.55  \n",
            "1      -2.46  \n",
            "2      -2.24  \n",
            "3      -1.05  \n",
            "4      -1.19  \n",
            "5      -3.19  \n",
            "6       1.24  \n",
            "7       2.72  \n",
            "8      -3.70  \n",
            "9      -2.65  \n",
            "10      0.37  \n",
            "11      1.41  \n",
            "12     -0.03  \n",
            "13      1.73  \n",
            "14      0.84  \n",
            "15      2.40  \n",
            "16     -2.49  \n",
            "17     -1.81  \n",
            "18     -0.92  \n",
            "19      0.60  \n",
            "20     -1.51  \n",
            "21     -0.11  \n",
            "22      1.91  \n",
            "23     -2.22  \n",
            "24     -0.48  \n",
            "25     -2.28  \n",
            "26     -0.31  \n",
            "27     -0.42  \n",
            "28      3.71  \n",
            "29      3.40  \n",
            "30      1.45  \n",
            "31      0.01  \n",
            "32      1.59  \n",
            "33     -1.66  \n",
            "34      0.92  \n",
            "35     -1.93  \n",
            "36     -1.76  \n",
            "37     -4.09  \n",
            "38      2.20  \n",
            "39      0.00  \n",
            "40      4.31  \n",
            "41      0.27  \n",
            "42      0.45  \n",
            "43     -1.65  \n",
            "44      1.38  \n",
            "45      0.40  \n",
            "46     -1.13  \n",
            "47     -1.01  \n",
            "48      1.42  \n",
            "49     -1.54  \n"
          ]
        }
      ]
    },
    {
      "cell_type": "code",
      "source": [
        "# Add a new column 'Week' based on the adjusted week numbering\n",
        "df['Week'] = (df['Date'].diff().dt.days >= 3).cumsum() + 1\n",
        "\n",
        "# Print the first 10 rows of the DataFrame\n",
        "print(df.head(10))\n"
      ],
      "metadata": {
        "colab": {
          "base_uri": "https://localhost:8080/"
        },
        "id": "3hGSG4w2TMX6",
        "outputId": "7ab16e89-63a8-4876-e5d7-b4deb68c4b1e"
      },
      "execution_count": 34,
      "outputs": [
        {
          "output_type": "stream",
          "name": "stdout",
          "text": [
            "   Week       Date        Day     Close      Open      High       Low  \\\n",
            "0     1 2011-01-03     Monday  11855.75  11882.10  11912.15  11826.95   \n",
            "1     1 2011-01-04    Tuesday  11564.05  11868.40  11872.80  11545.55   \n",
            "2     1 2011-01-05  Wednesday  11305.45  11545.75  11545.75  11265.55   \n",
            "3     1 2011-01-06   Thursday  11186.80  11350.70  11377.10  11164.75   \n",
            "4     1 2011-01-07     Friday  11053.35  11146.45  11258.50  11007.90   \n",
            "5     2 2011-01-10     Monday  10700.65  11024.50  11072.70  10671.60   \n",
            "6     2 2011-01-11    Tuesday  10833.55  10734.20  10951.20  10620.80   \n",
            "7     2 2011-01-12  Wednesday  11128.15  10906.40  11161.15  10728.45   \n",
            "8     2 2011-01-13   Thursday  10716.65  11125.95  11127.95  10676.50   \n",
            "9     2 2011-01-14     Friday  10432.90  10746.80  10907.30  10387.90   \n",
            "\n",
            "   Change %  \n",
            "0      0.55  \n",
            "1     -2.46  \n",
            "2     -2.24  \n",
            "3     -1.05  \n",
            "4     -1.19  \n",
            "5     -3.19  \n",
            "6      1.24  \n",
            "7      2.72  \n",
            "8     -3.70  \n",
            "9     -2.65  \n"
          ]
        }
      ]
    },
    {
      "cell_type": "code",
      "source": [
        "import pandas as pd\n",
        "\n",
        "# Set 'Date' column as the index\n",
        "df.set_index('Date', inplace=True)\n",
        "\n",
        "# Resample the data on a weekly basis starting from Friday\n",
        "weekly_df = df.resample('W-FRI').last()\n",
        "\n",
        "# Add a new column 'Week' with the adjusted week numbering\n",
        "weekly_df['Week'] = pd.Series(range(1, len(weekly_df) + 1))\n",
        "\n",
        "# Reset the index and print the first 10 rows of the DataFrame\n",
        "print(weekly_df.reset_index().head(10))\n"
      ],
      "metadata": {
        "colab": {
          "base_uri": "https://localhost:8080/"
        },
        "id": "qhNyfD79TmCG",
        "outputId": "b3c036f6-7171-4f78-a9b3-be51c61bc9c7"
      },
      "execution_count": 35,
      "outputs": [
        {
          "output_type": "stream",
          "name": "stdout",
          "text": [
            "        Date  Week     Day     Close      Open      High       Low  Change %\n",
            "0 2011-01-07   NaN  Friday  11053.35  11146.45  11258.50  11007.90     -1.19\n",
            "1 2011-01-14   NaN  Friday  10432.90  10746.80  10907.30  10387.90     -2.65\n",
            "2 2011-01-21   NaN  Friday  10889.40  10750.40  10923.70  10740.00      0.84\n",
            "3 2011-01-28   NaN  Friday  10578.25  10690.05  10736.40  10481.10     -0.92\n",
            "4 2011-02-04   NaN  Friday  10433.85  10632.90  10772.45  10385.90     -2.22\n",
            "5 2011-02-11   NaN  Friday  10447.75  10061.40  10473.45  10061.40      3.71\n",
            "6 2011-02-18   NaN  Friday  10949.70  11153.80  11300.45  10915.35     -1.66\n",
            "7 2011-02-25   NaN  Friday  10435.85  10329.65  10510.50  10263.15      2.20\n",
            "8 2011-03-04   NaN  Friday  10963.40  11008.90  11134.10  10924.10      0.45\n",
            "9 2011-03-11   NaN  Friday  10740.95  10772.90  10904.20  10697.10     -1.01\n"
          ]
        }
      ]
    },
    {
      "cell_type": "code",
      "source": [
        "import pandas as pd\n",
        "\n",
        "# Set 'Date' column as the index\n",
        "df.set_index('Date', inplace=True)\n",
        "\n",
        "# Get the unique years in the DataFrame\n",
        "years = df.index.year.unique()\n",
        "\n",
        "# Initialize an empty list to store the weekly DataFrames\n",
        "weekly_dfs = []\n",
        "\n",
        "# Iterate over the years\n",
        "for year in years:\n",
        "    # Filter the DataFrame for the current year\n",
        "    year_df = df[df.index.year == year]\n",
        "    \n",
        "    # Resample the data on a weekly basis starting from Friday\n",
        "    weekly_df = year_df.resample('W-FRI').last()\n",
        "    \n",
        "    # Add a new column 'Week' with the adjusted week numbering\n",
        "    weekly_df['Week'] = pd.Series(range(1, len(weekly_df) + 1))\n",
        "    \n",
        "    # Append the weekly DataFrame to the list\n",
        "    weekly_dfs.append(weekly_df)\n",
        "\n",
        "# Concatenate all the weekly DataFrames into a single DataFrame\n",
        "weekly_df = pd.concat(weekly_dfs)\n",
        "\n",
        "# Reset the index and print the first 10 rows of the DataFrame\n",
        "print(weekly_df.reset_index().head(10))\n"
      ],
      "metadata": {
        "colab": {
          "base_uri": "https://localhost:8080/",
          "height": 380
        },
        "id": "lwPulU3dTzG8",
        "outputId": "2f3cf6b0-6d40-42b9-de16-f03d4377980c"
      },
      "execution_count": 37,
      "outputs": [
        {
          "output_type": "error",
          "ename": "KeyError",
          "evalue": "ignored",
          "traceback": [
            "\u001b[0;31m---------------------------------------------------------------------------\u001b[0m",
            "\u001b[0;31mKeyError\u001b[0m                                  Traceback (most recent call last)",
            "\u001b[0;32m<ipython-input-37-0916793f2aae>\u001b[0m in \u001b[0;36m<cell line: 4>\u001b[0;34m()\u001b[0m\n\u001b[1;32m      2\u001b[0m \u001b[0;34m\u001b[0m\u001b[0m\n\u001b[1;32m      3\u001b[0m \u001b[0;31m# Set 'Date' column as the index\u001b[0m\u001b[0;34m\u001b[0m\u001b[0;34m\u001b[0m\u001b[0m\n\u001b[0;32m----> 4\u001b[0;31m \u001b[0mdf\u001b[0m\u001b[0;34m.\u001b[0m\u001b[0mset_index\u001b[0m\u001b[0;34m(\u001b[0m\u001b[0;34m'Date'\u001b[0m\u001b[0;34m,\u001b[0m \u001b[0minplace\u001b[0m\u001b[0;34m=\u001b[0m\u001b[0;32mTrue\u001b[0m\u001b[0;34m)\u001b[0m\u001b[0;34m\u001b[0m\u001b[0;34m\u001b[0m\u001b[0m\n\u001b[0m\u001b[1;32m      5\u001b[0m \u001b[0;34m\u001b[0m\u001b[0m\n\u001b[1;32m      6\u001b[0m \u001b[0;31m# Get the unique years in the DataFrame\u001b[0m\u001b[0;34m\u001b[0m\u001b[0;34m\u001b[0m\u001b[0m\n",
            "\u001b[0;32m/usr/local/lib/python3.10/dist-packages/pandas/util/_decorators.py\u001b[0m in \u001b[0;36mwrapper\u001b[0;34m(*args, **kwargs)\u001b[0m\n\u001b[1;32m    329\u001b[0m                     \u001b[0mstacklevel\u001b[0m\u001b[0;34m=\u001b[0m\u001b[0mfind_stack_level\u001b[0m\u001b[0;34m(\u001b[0m\u001b[0;34m)\u001b[0m\u001b[0;34m,\u001b[0m\u001b[0;34m\u001b[0m\u001b[0;34m\u001b[0m\u001b[0m\n\u001b[1;32m    330\u001b[0m                 )\n\u001b[0;32m--> 331\u001b[0;31m             \u001b[0;32mreturn\u001b[0m \u001b[0mfunc\u001b[0m\u001b[0;34m(\u001b[0m\u001b[0;34m*\u001b[0m\u001b[0margs\u001b[0m\u001b[0;34m,\u001b[0m \u001b[0;34m**\u001b[0m\u001b[0mkwargs\u001b[0m\u001b[0;34m)\u001b[0m\u001b[0;34m\u001b[0m\u001b[0;34m\u001b[0m\u001b[0m\n\u001b[0m\u001b[1;32m    332\u001b[0m \u001b[0;34m\u001b[0m\u001b[0m\n\u001b[1;32m    333\u001b[0m         \u001b[0;31m# error: \"Callable[[VarArg(Any), KwArg(Any)], Any]\" has no\u001b[0m\u001b[0;34m\u001b[0m\u001b[0;34m\u001b[0m\u001b[0m\n",
            "\u001b[0;32m/usr/local/lib/python3.10/dist-packages/pandas/core/frame.py\u001b[0m in \u001b[0;36mset_index\u001b[0;34m(self, keys, drop, append, inplace, verify_integrity)\u001b[0m\n\u001b[1;32m   6010\u001b[0m \u001b[0;34m\u001b[0m\u001b[0m\n\u001b[1;32m   6011\u001b[0m         \u001b[0;32mif\u001b[0m \u001b[0mmissing\u001b[0m\u001b[0;34m:\u001b[0m\u001b[0;34m\u001b[0m\u001b[0;34m\u001b[0m\u001b[0m\n\u001b[0;32m-> 6012\u001b[0;31m             \u001b[0;32mraise\u001b[0m \u001b[0mKeyError\u001b[0m\u001b[0;34m(\u001b[0m\u001b[0;34mf\"None of {missing} are in the columns\"\u001b[0m\u001b[0;34m)\u001b[0m\u001b[0;34m\u001b[0m\u001b[0;34m\u001b[0m\u001b[0m\n\u001b[0m\u001b[1;32m   6013\u001b[0m \u001b[0;34m\u001b[0m\u001b[0m\n\u001b[1;32m   6014\u001b[0m         \u001b[0;32mif\u001b[0m \u001b[0minplace\u001b[0m\u001b[0;34m:\u001b[0m\u001b[0;34m\u001b[0m\u001b[0;34m\u001b[0m\u001b[0m\n",
            "\u001b[0;31mKeyError\u001b[0m: \"None of ['Date'] are in the columns\""
          ]
        }
      ]
    },
    {
      "cell_type": "code",
      "source": [
        "import pandas as pd\n",
        "# Add the 'Date' column back to the DataFrame\n",
        "df['Date'] = df.index\n",
        "# Rename the column to 'Date' if necessary\n",
        "df.rename(columns={'Your_Current_Date_Column_Name': 'Date'}, inplace=True)\n",
        "\n",
        "# Set 'Date' column as the index\n",
        "df.set_index('Date', inplace=True)\n",
        "\n",
        "# Get the unique years in the DataFrame\n",
        "years = df.index.year.unique()\n",
        "\n",
        "# Initialize an empty list to store the weekly DataFrames\n",
        "weekly_dfs = []\n",
        "\n",
        "# Iterate over the years\n",
        "for year in years:\n",
        "    # Filter the DataFrame for the current year\n",
        "    year_df = df[df.index.year == year]\n",
        "    \n",
        "    # Resample the data on a weekly basis starting from Friday\n",
        "    weekly_df = year_df.resample('W-FRI').last()\n",
        "    \n",
        "    # Add a new column 'Week' with the adjusted week numbering\n",
        "    weekly_df['Week'] = pd.Series(range(1, len(weekly_df) + 1))\n",
        "    \n",
        "    # Append the weekly DataFrame to the list\n",
        "    weekly_dfs.append(weekly_df)\n",
        "\n",
        "# Concatenate all the weekly DataFrames into a single DataFrame\n",
        "weekly_df = pd.concat(weekly_dfs)\n",
        "\n",
        "# Reset the index and print the first 10 rows of the DataFrame\n",
        "print(weekly_df.reset_index().head(10))\n"
      ],
      "metadata": {
        "colab": {
          "base_uri": "https://localhost:8080/"
        },
        "id": "jjsmlHX3UFTN",
        "outputId": "de53b5d8-f73d-489a-e961-4448942a9568"
      },
      "execution_count": 41,
      "outputs": [
        {
          "output_type": "stream",
          "name": "stdout",
          "text": [
            "        Date  Week     Day     Close      Open      High       Low  Change %\n",
            "0 2011-01-07   NaN  Friday  11053.35  11146.45  11258.50  11007.90     -1.19\n",
            "1 2011-01-14   NaN  Friday  10432.90  10746.80  10907.30  10387.90     -2.65\n",
            "2 2011-01-21   NaN  Friday  10889.40  10750.40  10923.70  10740.00      0.84\n",
            "3 2011-01-28   NaN  Friday  10578.25  10690.05  10736.40  10481.10     -0.92\n",
            "4 2011-02-04   NaN  Friday  10433.85  10632.90  10772.45  10385.90     -2.22\n",
            "5 2011-02-11   NaN  Friday  10447.75  10061.40  10473.45  10061.40      3.71\n",
            "6 2011-02-18   NaN  Friday  10949.70  11153.80  11300.45  10915.35     -1.66\n",
            "7 2011-02-25   NaN  Friday  10435.85  10329.65  10510.50  10263.15      2.20\n",
            "8 2011-03-04   NaN  Friday  10963.40  11008.90  11134.10  10924.10      0.45\n",
            "9 2011-03-11   NaN  Friday  10740.95  10772.90  10904.20  10697.10     -1.01\n"
          ]
        }
      ]
    },
    {
      "cell_type": "code",
      "source": [
        "print(df.head(15))\n"
      ],
      "metadata": {
        "colab": {
          "base_uri": "https://localhost:8080/"
        },
        "id": "cgpTpL7vUiPY",
        "outputId": "be2062cd-103a-4164-9db1-9d73372fe678"
      },
      "execution_count": 46,
      "outputs": [
        {
          "output_type": "stream",
          "name": "stdout",
          "text": [
            "            Week        Day     Close      Open      High       Low  Change %\n",
            "Date                                                                         \n",
            "2011-01-03     1     Monday  11855.75  11882.10  11912.15  11826.95      0.55\n",
            "2011-01-04     1    Tuesday  11564.05  11868.40  11872.80  11545.55     -2.46\n",
            "2011-01-05     1  Wednesday  11305.45  11545.75  11545.75  11265.55     -2.24\n",
            "2011-01-06     1   Thursday  11186.80  11350.70  11377.10  11164.75     -1.05\n",
            "2011-01-07     1     Friday  11053.35  11146.45  11258.50  11007.90     -1.19\n",
            "2011-01-10     2     Monday  10700.65  11024.50  11072.70  10671.60     -3.19\n",
            "2011-01-11     2    Tuesday  10833.55  10734.20  10951.20  10620.80      1.24\n",
            "2011-01-12     2  Wednesday  11128.15  10906.40  11161.15  10728.45      2.72\n",
            "2011-01-13     2   Thursday  10716.65  11125.95  11127.95  10676.50     -3.70\n",
            "2011-01-14     2     Friday  10432.90  10746.80  10907.30  10387.90     -2.65\n",
            "2011-01-17     3     Monday  10471.10  10459.60  10571.80  10373.80      0.37\n",
            "2011-01-18     3    Tuesday  10618.50  10534.30  10677.95  10520.30      1.41\n",
            "2011-01-19     3  Wednesday  10615.15  10646.00  10715.05  10562.25     -0.03\n",
            "2011-01-20     3   Thursday  10798.35  10579.25  10878.80  10493.25      1.73\n",
            "2011-01-21     3     Friday  10889.40  10750.40  10923.70  10740.00      0.84\n"
          ]
        }
      ]
    },
    {
      "cell_type": "code",
      "source": [
        "df['Date'] = df.index\n",
        "\n",
        "# Set 'Date' column as the index\n",
        "df.set_index('Date', inplace=True)\n",
        "\n",
        "# Resample the data into weekly periods starting from Friday\n",
        "weekly_df = df.resample('W-FRI').agg({\n",
        "    'Open': 'first',\n",
        "    'Close': 'last',\n",
        "    'High': 'max',\n",
        "    'Low': 'min'\n",
        "})\n",
        "\n",
        "# Add the 'Week' column based on the index\n",
        "weekly_df['Week'] = weekly_df.index.week\n",
        "\n",
        "# Reset the index to include the 'Date' column\n",
        "weekly_df.reset_index(inplace=True)\n",
        "\n",
        "# Rearrange the columns\n",
        "weekly_df = weekly_df[['Week', 'Date', 'Open', 'Close', 'High', 'Low']]\n",
        "\n",
        "# Display the first 10 weeks of data\n",
        "print(weekly_df.head(10)) \n",
        "print(df.head(10))\n",
        "\n",
        "\n"
      ],
      "metadata": {
        "colab": {
          "base_uri": "https://localhost:8080/"
        },
        "id": "qXCDfythVvAI",
        "outputId": "cb8d9c7a-cf9f-4946-d0b3-6b2526f23044"
      },
      "execution_count": 52,
      "outputs": [
        {
          "output_type": "stream",
          "name": "stdout",
          "text": [
            "   Week       Date      Open     Close      High       Low\n",
            "0     1 2011-01-07  11882.10  11053.35  11912.15  11007.90\n",
            "1     2 2011-01-14  11024.50  10432.90  11161.15  10387.90\n",
            "2     3 2011-01-21  10459.60  10889.40  10923.70  10373.80\n",
            "3     4 2011-01-28  10923.75  10578.25  11256.95  10481.10\n",
            "4     5 2011-02-04  10444.35  10433.85  10772.45  10385.90\n",
            "5     6 2011-02-11  10457.80  10447.75  10509.80  10017.85\n",
            "6     7 2011-02-18  10477.85  10949.70  11300.45  10477.85\n",
            "7     8 2011-02-25  10935.30  10435.85  11070.35  10169.00\n",
            "8     9 2011-03-04  10512.20  10963.40  11134.10  10364.35\n",
            "9    10 2011-03-11  10886.10  10740.95  11054.00  10658.30\n",
            "            Week        Day     Close      Open      High       Low  Change %\n",
            "Date                                                                         \n",
            "2011-01-03     1     Monday  11855.75  11882.10  11912.15  11826.95      0.55\n",
            "2011-01-04     1    Tuesday  11564.05  11868.40  11872.80  11545.55     -2.46\n",
            "2011-01-05     1  Wednesday  11305.45  11545.75  11545.75  11265.55     -2.24\n",
            "2011-01-06     1   Thursday  11186.80  11350.70  11377.10  11164.75     -1.05\n",
            "2011-01-07     1     Friday  11053.35  11146.45  11258.50  11007.90     -1.19\n",
            "2011-01-10     2     Monday  10700.65  11024.50  11072.70  10671.60     -3.19\n",
            "2011-01-11     2    Tuesday  10833.55  10734.20  10951.20  10620.80      1.24\n",
            "2011-01-12     2  Wednesday  11128.15  10906.40  11161.15  10728.45      2.72\n",
            "2011-01-13     2   Thursday  10716.65  11125.95  11127.95  10676.50     -3.70\n",
            "2011-01-14     2     Friday  10432.90  10746.80  10907.30  10387.90     -2.65\n"
          ]
        },
        {
          "output_type": "stream",
          "name": "stderr",
          "text": [
            "<ipython-input-52-5bcd7451e862>:15: FutureWarning: weekofyear and week have been deprecated, please use DatetimeIndex.isocalendar().week instead, which returns a Series. To exactly reproduce the behavior of week and weekofyear and return an Index, you may call pd.Int64Index(idx.isocalendar().week)\n",
            "  weekly_df['Week'] = weekly_df.index.week\n"
          ]
        }
      ]
    },
    {
      "cell_type": "code",
      "source": [
        "df['Date'] = df.index\n",
        "\n",
        "# Set 'Date' column as the index\n",
        "df.set_index('Date', inplace=True)\n",
        "\n",
        "# Resample the data into weekly periods starting from Thursday\n",
        "weekly_df = df.resample('W-THU').agg({\n",
        "    'Open': 'first',\n",
        "    'Close': 'last',\n",
        "    'High': 'max',\n",
        "    'Low': 'min'\n",
        "})\n",
        "\n",
        "# Shift the index by -1 to align with the desired week start on Friday\n",
        "weekly_df.index = weekly_df.index + pd.DateOffset(days=1)\n",
        "\n",
        "# Add the 'Week' column based on the shifted index\n",
        "weekly_df['Week'] = weekly_df.index.week\n",
        "\n",
        "# Reset the index to include the 'Date' column\n",
        "weekly_df.reset_index(inplace=True)\n",
        "\n",
        "# Rearrange the columns\n",
        "weekly_df = weekly_df[['Week', 'Date', 'Open', 'Close', 'High', 'Low']]\n",
        "\n",
        "# Display the first 10 weeks of data\n",
        "print(weekly_df.head(19))\n",
        "\n",
        "print(df.head(19))\n"
      ],
      "metadata": {
        "colab": {
          "base_uri": "https://localhost:8080/"
        },
        "id": "iN_ncJeOXOa1",
        "outputId": "1fc3c921-4b53-4658-9a62-8cdb9402af30"
      },
      "execution_count": 58,
      "outputs": [
        {
          "output_type": "stream",
          "name": "stdout",
          "text": [
            "    Week       Date      Open     Close      High       Low\n",
            "0      1 2011-01-07  11882.10  11186.80  11912.15  11164.75\n",
            "1      2 2011-01-14  11146.45  10716.65  11258.50  10620.80\n",
            "2      3 2011-01-21  10746.80  10798.35  10907.30  10373.80\n",
            "3      4 2011-01-28  10750.40  10676.15  11256.95  10639.85\n",
            "4      5 2011-02-04  10690.05  10670.60  10736.40  10400.25\n",
            "5      6 2011-02-11  10632.90  10074.10  10772.45  10017.85\n",
            "6      7 2011-02-18  10061.40  11134.70  11190.20  10061.40\n",
            "7      8 2011-02-25  11153.80  10210.75  11300.45  10169.00\n",
            "8      9 2011-03-04  10329.65  10914.50  11066.40  10263.15\n",
            "9     10 2011-03-11  11008.90  10850.25  11134.10  10658.30\n",
            "10    11 2011-03-18  10772.90  10851.95  11018.30  10591.30\n",
            "11    12 2011-03-25  10882.00  11070.35  11112.60  10661.15\n",
            "12    13 2011-04-01  11179.20  11705.45  11898.40  11136.45\n",
            "13    14 2011-04-08  11713.05  11754.40  11861.15  11540.85\n",
            "14    15 2011-04-15  11751.80  11839.50  11856.35  11490.55\n",
            "15    16 2011-04-22  11810.10  11894.75  11950.70  11482.15\n",
            "16    17 2011-04-29  11860.35  11684.80  11978.05  11659.50\n",
            "17    18 2011-05-06  11671.05  10730.10  11723.25  10677.30\n",
            "18    19 2011-05-13  10751.30  10887.45  11213.50  10751.30\n",
            "            Week        Day     Close      Open      High       Low  Change %\n",
            "Date                                                                         \n",
            "2011-01-03     1     Monday  11855.75  11882.10  11912.15  11826.95      0.55\n",
            "2011-01-04     1    Tuesday  11564.05  11868.40  11872.80  11545.55     -2.46\n",
            "2011-01-05     1  Wednesday  11305.45  11545.75  11545.75  11265.55     -2.24\n",
            "2011-01-06     1   Thursday  11186.80  11350.70  11377.10  11164.75     -1.05\n",
            "2011-01-07     1     Friday  11053.35  11146.45  11258.50  11007.90     -1.19\n",
            "2011-01-10     2     Monday  10700.65  11024.50  11072.70  10671.60     -3.19\n",
            "2011-01-11     2    Tuesday  10833.55  10734.20  10951.20  10620.80      1.24\n",
            "2011-01-12     2  Wednesday  11128.15  10906.40  11161.15  10728.45      2.72\n",
            "2011-01-13     2   Thursday  10716.65  11125.95  11127.95  10676.50     -3.70\n",
            "2011-01-14     2     Friday  10432.90  10746.80  10907.30  10387.90     -2.65\n",
            "2011-01-17     3     Monday  10471.10  10459.60  10571.80  10373.80      0.37\n",
            "2011-01-18     3    Tuesday  10618.50  10534.30  10677.95  10520.30      1.41\n",
            "2011-01-19     3  Wednesday  10615.15  10646.00  10715.05  10562.25     -0.03\n",
            "2011-01-20     3   Thursday  10798.35  10579.25  10878.80  10493.25      1.73\n",
            "2011-01-21     3     Friday  10889.40  10750.40  10923.70  10740.00      0.84\n",
            "2011-01-24     4     Monday  11151.15  10923.75  11177.85  10913.45      2.40\n",
            "2011-01-25     4    Tuesday  10872.95  11183.55  11256.95  10849.40     -2.49\n",
            "2011-01-27     4   Thursday  10676.15  10946.40  10970.85  10639.85     -1.81\n",
            "2011-01-28     4     Friday  10578.25  10690.05  10736.40  10481.10     -0.92\n"
          ]
        },
        {
          "output_type": "stream",
          "name": "stderr",
          "text": [
            "<ipython-input-58-6b42ee4a3d9a>:18: FutureWarning: weekofyear and week have been deprecated, please use DatetimeIndex.isocalendar().week instead, which returns a Series. To exactly reproduce the behavior of week and weekofyear and return an Index, you may call pd.Int64Index(idx.isocalendar().week)\n",
            "  weekly_df['Week'] = weekly_df.index.week\n"
          ]
        }
      ]
    },
    {
      "cell_type": "code",
      "source": [
        "# Calculate the weekly change percentage\n",
        "weekly_df['Change %'] = weekly_df['Close'].pct_change() * 100\n",
        "\n",
        "# Set the change percentage of the first week to 0\n",
        "weekly_df.at[0, 'Change %'] = 0\n",
        "\n",
        "weekly_df['Change %'] = weekly_df['Change %'].round(2)\n",
        "\n",
        "# Display the updated DataFrame\n",
        "print(weekly_df.head(20))\n"
      ],
      "metadata": {
        "colab": {
          "base_uri": "https://localhost:8080/"
        },
        "id": "vzjKNaHmY57h",
        "outputId": "cf885230-a72d-4083-b82f-46cc80fea542"
      },
      "execution_count": 64,
      "outputs": [
        {
          "output_type": "stream",
          "name": "stdout",
          "text": [
            "    Week       Date      Open     Close      High       Low  Change %   Nature\n",
            "0      1 2011-01-07  11882.10  11186.80  11912.15  11164.75      0.00  Neutral\n",
            "1      2 2011-01-14  11146.45  10716.65  11258.50  10620.80     -4.20  Bearish\n",
            "2      3 2011-01-21  10746.80  10798.35  10907.30  10373.80      0.76  Neutral\n",
            "3      4 2011-01-28  10750.40  10676.15  11256.95  10639.85     -1.13  Bearish\n",
            "4      5 2011-02-04  10690.05  10670.60  10736.40  10400.25     -0.05  Neutral\n",
            "5      6 2011-02-11  10632.90  10074.10  10772.45  10017.85     -5.59  Bearish\n",
            "6      7 2011-02-18  10061.40  11134.70  11190.20  10061.40     10.53  Bullish\n",
            "7      8 2011-02-25  11153.80  10210.75  11300.45  10169.00     -8.30  Bearish\n",
            "8      9 2011-03-04  10329.65  10914.50  11066.40  10263.15      6.89  Bullish\n",
            "9     10 2011-03-11  11008.90  10850.25  11134.10  10658.30     -0.59  Neutral\n",
            "10    11 2011-03-18  10772.90  10851.95  11018.30  10591.30      0.02  Neutral\n",
            "11    12 2011-03-25  10882.00  11070.35  11112.60  10661.15      2.01  Bullish\n",
            "12    13 2011-04-01  11179.20  11705.45  11898.40  11136.45      5.74  Bullish\n",
            "13    14 2011-04-08  11713.05  11754.40  11861.15  11540.85      0.42  Neutral\n",
            "14    15 2011-04-15  11751.80  11839.50  11856.35  11490.55      0.72  Neutral\n",
            "15    16 2011-04-22  11810.10  11894.75  11950.70  11482.15      0.47  Neutral\n",
            "16    17 2011-04-29  11860.35  11684.80  11978.05  11659.50     -1.77  Bearish\n",
            "17    18 2011-05-06  11671.05  10730.10  11723.25  10677.30     -8.17  Bearish\n",
            "18    19 2011-05-13  10751.30  10887.45  11213.50  10751.30      1.47  Bullish\n",
            "19    20 2011-05-20  10896.55  10558.35  11180.40  10524.35     -3.02  Bearish\n"
          ]
        }
      ]
    },
    {
      "cell_type": "code",
      "source": [
        "# Count the number of bullish, bearish, and neutral weeks\n",
        "nature_counts = weekly_df['Nature'].value_counts()\n",
        "\n",
        "# Display the counts\n",
        "print(nature_counts)\n"
      ],
      "metadata": {
        "colab": {
          "base_uri": "https://localhost:8080/"
        },
        "id": "D1_GxLm1bSlN",
        "outputId": "b0811bc6-0898-480d-9a84-9b776ebdaf43"
      },
      "execution_count": 65,
      "outputs": [
        {
          "output_type": "stream",
          "name": "stdout",
          "text": [
            "Bullish    255\n",
            "Bearish    207\n",
            "Neutral    185\n",
            "Name: Nature, dtype: int64\n"
          ]
        }
      ]
    },
    {
      "cell_type": "code",
      "source": [
        "print(weekly_df)"
      ],
      "metadata": {
        "colab": {
          "base_uri": "https://localhost:8080/"
        },
        "id": "tltyKUTFbqbi",
        "outputId": "bb07f7db-d05c-4e4c-bc5f-591fd7741510"
      },
      "execution_count": 66,
      "outputs": [
        {
          "output_type": "stream",
          "name": "stdout",
          "text": [
            "     Week       Date      Open     Close      High       Low  Change %  \\\n",
            "0       1 2011-01-07  11882.10  11186.80  11912.15  11164.75      0.00   \n",
            "1       2 2011-01-14  11146.45  10716.65  11258.50  10620.80     -4.20   \n",
            "2       3 2011-01-21  10746.80  10798.35  10907.30  10373.80      0.76   \n",
            "3       4 2011-01-28  10750.40  10676.15  11256.95  10639.85     -1.13   \n",
            "4       5 2011-02-04  10690.05  10670.60  10736.40  10400.25     -0.05   \n",
            "..    ...        ...       ...       ...       ...       ...       ...   \n",
            "642    17 2023-04-28  42252.55  43000.85  43043.40  41962.35      1.73   \n",
            "643    18 2023-05-05  43045.50  43685.45  43739.80  42810.35      1.59   \n",
            "644    19 2023-05-12  43110.65  43475.30  43774.25  42582.20     -0.48   \n",
            "645    20 2023-05-19  43447.15  43752.30  44151.70  43347.75      0.64   \n",
            "646    21 2023-05-26  43930.00  44054.75  44081.05  43531.90      0.69   \n",
            "\n",
            "      Nature  \n",
            "0    Neutral  \n",
            "1    Bearish  \n",
            "2    Neutral  \n",
            "3    Bearish  \n",
            "4    Neutral  \n",
            "..       ...  \n",
            "642  Bullish  \n",
            "643  Bullish  \n",
            "644  Neutral  \n",
            "645  Neutral  \n",
            "646  Neutral  \n",
            "\n",
            "[647 rows x 8 columns]\n"
          ]
        }
      ]
    },
    {
      "cell_type": "code",
      "source": [
        "# Calculate the average bullish, bearish, and neutral change %\n",
        "avg_change = weekly_df.groupby('Nature')['Change %'].mean()\n",
        "\n",
        "# Display the averages\n",
        "print(avg_change)\n"
      ],
      "metadata": {
        "colab": {
          "base_uri": "https://localhost:8080/"
        },
        "id": "ZsTKv_ULbyCU",
        "outputId": "bb82aac3-be09-4fbd-8d01-9e6feaa3ace2"
      },
      "execution_count": 67,
      "outputs": [
        {
          "output_type": "stream",
          "name": "stdout",
          "text": [
            "Nature\n",
            "Bearish   -3.307536\n",
            "Bullish    3.365961\n",
            "Neutral    0.009189\n",
            "Name: Change %, dtype: float64\n"
          ]
        }
      ]
    },
    {
      "cell_type": "code",
      "source": [],
      "metadata": {
        "id": "hJz-T-OCcI8n"
      },
      "execution_count": null,
      "outputs": []
    }
  ]
}